{
 "cells": [
  {
   "cell_type": "markdown",
   "metadata": {},
   "source": [
    "# Определение перспективного тарифа для телеком компании"
   ]
  },
  {
   "cell_type": "markdown",
   "metadata": {},
   "source": [
    "Клиентам предлагают два тарифных плана: «Смарт» и «Ультра». Чтобы скорректировать рекламный бюджет, коммерческий департамент федерального оператора сотовой связи хочет понять, какой тариф приносит больше денег. Необходимо сделать предварительный анализ тарифов на небольшой выборке клиентов. В распоряжении данные 500 пользователей «Мегалайна»: кто они, откуда, каким тарифом пользуются, сколько звонков и сообщений каждый отправил за 2018 год. Нужно проанализировать поведение клиентов и сделать вывод — какой тариф лучше."
   ]
  },
  {
   "cell_type": "markdown",
   "metadata": {},
   "source": [
    "**Описание тарифов**\n",
    "\n",
    "Тариф «Смарт»\n",
    "Ежемесячная плата: 550 рублей\n",
    "Включено 500 минут разговора, 50 сообщений и 15 Гб интернет-трафика\n",
    "Стоимость услуг сверх тарифного пакета:\n",
    "минута разговора: 3 рубля\n",
    "сообщение: 3 рубля\n",
    "1 Гб интернет-трафика: 200 рублей\n",
    "\n",
    "Тариф «Ультра»\n",
    "Ежемесячная плата: 1950 рублей\n",
    "Включено 3000 минут разговора, 1000 сообщений и 30 Гб интернет-трафика\n",
    "Стоимость услуг сверх тарифного пакета:\n",
    "минута разговора: 1 рубль\n",
    "сообщение: 1 рубль\n",
    "1 Гб интернет-трафика: 150 рублей\n",
    "\n",
    "<font color='blue'>Примечание:\n",
    "«Мегалайн» всегда округляет секунды до минут, а мегабайты — до гигабайт. Каждый звонок округляется отдельно: даже если он длился всего 1 секунду, будет засчитан как 1 минута.\n",
    "Для веб-трафика отдельные сессии не считаются. Вместо этого общая сумма за месяц округляется в бо́льшую сторону. Если абонент использует 1025 мегабайт в этом месяце, с него возьмут плату за 2 гигабайта.<font>"
   ]
  },
  {
   "cell_type": "markdown",
   "metadata": {},
   "source": [
    "**Описание данных**"
   ]
  },
  {
   "cell_type": "markdown",
   "metadata": {},
   "source": [
    "**Таблица users (информация о пользователях):**\n",
    "\n",
    "**user_id** — уникальный идентификатор пользователя\n",
    "\n",
    "**first_name** — имя пользователя\n",
    "\n",
    "**last_name** — фамилия пользователя\n",
    "\n",
    "**age** — возраст пользователя (годы)\n",
    "\n",
    "**reg_date** — дата подключения тарифа (день, месяц, год)\n",
    "\n",
    "**churn_date** — дата прекращения пользования тарифом (если значение пропущено, то тариф ещё действовал на момент выгрузки данных)\n",
    "\n",
    "**city** — город проживания пользователя\n",
    "\n",
    "**tariff** — название тарифного плана\n",
    "\n",
    "**Таблица calls (информация о звонках):**\n",
    "\n",
    "**id** — уникальный номер звонка\n",
    "\n",
    "**call_date** — дата звонка\n",
    "\n",
    "**duration** — длительность звонка в минутах\n",
    "\n",
    "**user_id** — идентификатор пользователя, сделавшего звонок\n",
    "\n",
    "**Таблица messages (информация о сообщениях):**\n",
    "\n",
    "**id** — уникальный номер сообщения\n",
    "\n",
    "**message_date** — дата сообщения\n",
    "\n",
    "**user_id** — идентификатор пользователя, отправившего сообщение\n",
    "\n",
    "**Таблица internet (информация об интернет-сессиях):**\n",
    "\n",
    "**id** — уникальный номер сессии\n",
    "\n",
    "**mb_used** — объём потраченного за сессию интернет-трафика (в мегабайтах)\n",
    "\n",
    "**session_date** — дата интернет-сессии\n",
    "\n",
    "**user_id** — идентификатор пользователя\n",
    "\n",
    "**Таблица tariffs (информация о тарифах):**\n",
    "\n",
    "**tariff_name** — название тарифа\n",
    "\n",
    "**rub_monthly_fee** — ежемесячная абонентская плата в рублях\n",
    "\n",
    "**minutes_included** — количество минут разговора в месяц, включённых в абонентскую плату\n",
    "\n",
    "**messages_included** — количество сообщений в месяц, включённых в абонентскую плату\n",
    "\n",
    "**mb_per_month_included** — объём интернет-трафика, включённого в абонентскую плату (в мегабайтах)\n",
    "\n",
    "**rub_per_minute** — стоимость минуты разговора сверх тарифного пакета (например, если в тарифе 100 минут разговора в месяц, то со 101 минуты будет взиматься плата)\n",
    "\n",
    "**rub_per_message** — стоимость отправки сообщения сверх тарифного пакета\n",
    "\n",
    "**rub_per_gb** — стоимость дополнительного гигабайта интернет-трафика сверх тарифного пакета (1 гигабайт = 1024 мегабайта)"
   ]
  },
  {
   "cell_type": "markdown",
   "metadata": {},
   "source": [
    "### Изучение общей информации"
   ]
  },
  {
   "cell_type": "code",
   "execution_count": 1,
   "metadata": {},
   "outputs": [
    {
     "name": "stdout",
     "output_type": "stream",
     "text": [
      "======= < DATASET > ===================================\n",
      "\n",
      "<class 'pandas.core.frame.DataFrame'>\n",
      "RangeIndex: 500 entries, 0 to 499\n",
      "Data columns (total 8 columns):\n",
      " #   Column      Non-Null Count  Dtype \n",
      "---  ------      --------------  ----- \n",
      " 0   user_id     500 non-null    int64 \n",
      " 1   age         500 non-null    int64 \n",
      " 2   churn_date  38 non-null     object\n",
      " 3   city        500 non-null    object\n",
      " 4   first_name  500 non-null    object\n",
      " 5   last_name   500 non-null    object\n",
      " 6   reg_date    500 non-null    object\n",
      " 7   tariff      500 non-null    object\n",
      "dtypes: int64(2), object(6)\n",
      "memory usage: 31.4+ KB\n",
      "None\n"
     ]
    },
    {
     "data": {
      "text/html": [
       "<div>\n",
       "<style scoped>\n",
       "    .dataframe tbody tr th:only-of-type {\n",
       "        vertical-align: middle;\n",
       "    }\n",
       "\n",
       "    .dataframe tbody tr th {\n",
       "        vertical-align: top;\n",
       "    }\n",
       "\n",
       "    .dataframe thead th {\n",
       "        text-align: right;\n",
       "    }\n",
       "</style>\n",
       "<table border=\"1\" class=\"dataframe\">\n",
       "  <thead>\n",
       "    <tr style=\"text-align: right;\">\n",
       "      <th></th>\n",
       "      <th>user_id</th>\n",
       "      <th>age</th>\n",
       "      <th>churn_date</th>\n",
       "      <th>city</th>\n",
       "      <th>first_name</th>\n",
       "      <th>last_name</th>\n",
       "      <th>reg_date</th>\n",
       "      <th>tariff</th>\n",
       "    </tr>\n",
       "  </thead>\n",
       "  <tbody>\n",
       "    <tr>\n",
       "      <th>0</th>\n",
       "      <td>1000</td>\n",
       "      <td>52</td>\n",
       "      <td>NaN</td>\n",
       "      <td>Краснодар</td>\n",
       "      <td>Рафаил</td>\n",
       "      <td>Верещагин</td>\n",
       "      <td>2018-05-25</td>\n",
       "      <td>ultra</td>\n",
       "    </tr>\n",
       "    <tr>\n",
       "      <th>1</th>\n",
       "      <td>1001</td>\n",
       "      <td>41</td>\n",
       "      <td>NaN</td>\n",
       "      <td>Москва</td>\n",
       "      <td>Иван</td>\n",
       "      <td>Ежов</td>\n",
       "      <td>2018-11-01</td>\n",
       "      <td>smart</td>\n",
       "    </tr>\n",
       "    <tr>\n",
       "      <th>2</th>\n",
       "      <td>1002</td>\n",
       "      <td>59</td>\n",
       "      <td>NaN</td>\n",
       "      <td>Стерлитамак</td>\n",
       "      <td>Евгений</td>\n",
       "      <td>Абрамович</td>\n",
       "      <td>2018-06-17</td>\n",
       "      <td>smart</td>\n",
       "    </tr>\n",
       "    <tr>\n",
       "      <th>3</th>\n",
       "      <td>1003</td>\n",
       "      <td>23</td>\n",
       "      <td>NaN</td>\n",
       "      <td>Москва</td>\n",
       "      <td>Белла</td>\n",
       "      <td>Белякова</td>\n",
       "      <td>2018-08-17</td>\n",
       "      <td>ultra</td>\n",
       "    </tr>\n",
       "    <tr>\n",
       "      <th>4</th>\n",
       "      <td>1004</td>\n",
       "      <td>68</td>\n",
       "      <td>NaN</td>\n",
       "      <td>Новокузнецк</td>\n",
       "      <td>Татьяна</td>\n",
       "      <td>Авдеенко</td>\n",
       "      <td>2018-05-14</td>\n",
       "      <td>ultra</td>\n",
       "    </tr>\n",
       "  </tbody>\n",
       "</table>\n",
       "</div>"
      ],
      "text/plain": [
       "   user_id  age churn_date         city first_name  last_name    reg_date  \\\n",
       "0     1000   52        NaN    Краснодар     Рафаил  Верещагин  2018-05-25   \n",
       "1     1001   41        NaN       Москва       Иван       Ежов  2018-11-01   \n",
       "2     1002   59        NaN  Стерлитамак    Евгений  Абрамович  2018-06-17   \n",
       "3     1003   23        NaN       Москва      Белла   Белякова  2018-08-17   \n",
       "4     1004   68        NaN  Новокузнецк    Татьяна   Авдеенко  2018-05-14   \n",
       "\n",
       "  tariff  \n",
       "0  ultra  \n",
       "1  smart  \n",
       "2  smart  \n",
       "3  ultra  \n",
       "4  ultra  "
      ]
     },
     "metadata": {},
     "output_type": "display_data"
    },
    {
     "name": "stdout",
     "output_type": "stream",
     "text": [
      "\n",
      "======= < DATASET > ===================================\n",
      "\n",
      "<class 'pandas.core.frame.DataFrame'>\n",
      "RangeIndex: 202607 entries, 0 to 202606\n",
      "Data columns (total 4 columns):\n",
      " #   Column     Non-Null Count   Dtype  \n",
      "---  ------     --------------   -----  \n",
      " 0   id         202607 non-null  object \n",
      " 1   call_date  202607 non-null  object \n",
      " 2   duration   202607 non-null  float64\n",
      " 3   user_id    202607 non-null  int64  \n",
      "dtypes: float64(1), int64(1), object(2)\n",
      "memory usage: 6.2+ MB\n",
      "None\n"
     ]
    },
    {
     "data": {
      "text/html": [
       "<div>\n",
       "<style scoped>\n",
       "    .dataframe tbody tr th:only-of-type {\n",
       "        vertical-align: middle;\n",
       "    }\n",
       "\n",
       "    .dataframe tbody tr th {\n",
       "        vertical-align: top;\n",
       "    }\n",
       "\n",
       "    .dataframe thead th {\n",
       "        text-align: right;\n",
       "    }\n",
       "</style>\n",
       "<table border=\"1\" class=\"dataframe\">\n",
       "  <thead>\n",
       "    <tr style=\"text-align: right;\">\n",
       "      <th></th>\n",
       "      <th>id</th>\n",
       "      <th>call_date</th>\n",
       "      <th>duration</th>\n",
       "      <th>user_id</th>\n",
       "    </tr>\n",
       "  </thead>\n",
       "  <tbody>\n",
       "    <tr>\n",
       "      <th>0</th>\n",
       "      <td>1000_0</td>\n",
       "      <td>2018-07-25</td>\n",
       "      <td>0.00</td>\n",
       "      <td>1000</td>\n",
       "    </tr>\n",
       "    <tr>\n",
       "      <th>1</th>\n",
       "      <td>1000_1</td>\n",
       "      <td>2018-08-17</td>\n",
       "      <td>0.00</td>\n",
       "      <td>1000</td>\n",
       "    </tr>\n",
       "    <tr>\n",
       "      <th>2</th>\n",
       "      <td>1000_2</td>\n",
       "      <td>2018-06-11</td>\n",
       "      <td>2.85</td>\n",
       "      <td>1000</td>\n",
       "    </tr>\n",
       "    <tr>\n",
       "      <th>3</th>\n",
       "      <td>1000_3</td>\n",
       "      <td>2018-09-21</td>\n",
       "      <td>13.80</td>\n",
       "      <td>1000</td>\n",
       "    </tr>\n",
       "    <tr>\n",
       "      <th>4</th>\n",
       "      <td>1000_4</td>\n",
       "      <td>2018-12-15</td>\n",
       "      <td>5.18</td>\n",
       "      <td>1000</td>\n",
       "    </tr>\n",
       "  </tbody>\n",
       "</table>\n",
       "</div>"
      ],
      "text/plain": [
       "       id   call_date  duration  user_id\n",
       "0  1000_0  2018-07-25      0.00     1000\n",
       "1  1000_1  2018-08-17      0.00     1000\n",
       "2  1000_2  2018-06-11      2.85     1000\n",
       "3  1000_3  2018-09-21     13.80     1000\n",
       "4  1000_4  2018-12-15      5.18     1000"
      ]
     },
     "metadata": {},
     "output_type": "display_data"
    },
    {
     "name": "stdout",
     "output_type": "stream",
     "text": [
      "\n",
      "======= < DATASET > ===================================\n",
      "\n",
      "<class 'pandas.core.frame.DataFrame'>\n",
      "RangeIndex: 123036 entries, 0 to 123035\n",
      "Data columns (total 3 columns):\n",
      " #   Column        Non-Null Count   Dtype \n",
      "---  ------        --------------   ----- \n",
      " 0   id            123036 non-null  object\n",
      " 1   message_date  123036 non-null  object\n",
      " 2   user_id       123036 non-null  int64 \n",
      "dtypes: int64(1), object(2)\n",
      "memory usage: 2.8+ MB\n",
      "None\n"
     ]
    },
    {
     "data": {
      "text/html": [
       "<div>\n",
       "<style scoped>\n",
       "    .dataframe tbody tr th:only-of-type {\n",
       "        vertical-align: middle;\n",
       "    }\n",
       "\n",
       "    .dataframe tbody tr th {\n",
       "        vertical-align: top;\n",
       "    }\n",
       "\n",
       "    .dataframe thead th {\n",
       "        text-align: right;\n",
       "    }\n",
       "</style>\n",
       "<table border=\"1\" class=\"dataframe\">\n",
       "  <thead>\n",
       "    <tr style=\"text-align: right;\">\n",
       "      <th></th>\n",
       "      <th>id</th>\n",
       "      <th>message_date</th>\n",
       "      <th>user_id</th>\n",
       "    </tr>\n",
       "  </thead>\n",
       "  <tbody>\n",
       "    <tr>\n",
       "      <th>0</th>\n",
       "      <td>1000_0</td>\n",
       "      <td>2018-06-27</td>\n",
       "      <td>1000</td>\n",
       "    </tr>\n",
       "    <tr>\n",
       "      <th>1</th>\n",
       "      <td>1000_1</td>\n",
       "      <td>2018-10-08</td>\n",
       "      <td>1000</td>\n",
       "    </tr>\n",
       "    <tr>\n",
       "      <th>2</th>\n",
       "      <td>1000_2</td>\n",
       "      <td>2018-08-04</td>\n",
       "      <td>1000</td>\n",
       "    </tr>\n",
       "    <tr>\n",
       "      <th>3</th>\n",
       "      <td>1000_3</td>\n",
       "      <td>2018-06-16</td>\n",
       "      <td>1000</td>\n",
       "    </tr>\n",
       "    <tr>\n",
       "      <th>4</th>\n",
       "      <td>1000_4</td>\n",
       "      <td>2018-12-05</td>\n",
       "      <td>1000</td>\n",
       "    </tr>\n",
       "  </tbody>\n",
       "</table>\n",
       "</div>"
      ],
      "text/plain": [
       "       id message_date  user_id\n",
       "0  1000_0   2018-06-27     1000\n",
       "1  1000_1   2018-10-08     1000\n",
       "2  1000_2   2018-08-04     1000\n",
       "3  1000_3   2018-06-16     1000\n",
       "4  1000_4   2018-12-05     1000"
      ]
     },
     "metadata": {},
     "output_type": "display_data"
    },
    {
     "name": "stdout",
     "output_type": "stream",
     "text": [
      "\n",
      "======= < DATASET > ===================================\n",
      "\n",
      "<class 'pandas.core.frame.DataFrame'>\n",
      "RangeIndex: 149396 entries, 0 to 149395\n",
      "Data columns (total 5 columns):\n",
      " #   Column        Non-Null Count   Dtype  \n",
      "---  ------        --------------   -----  \n",
      " 0   Unnamed: 0    149396 non-null  int64  \n",
      " 1   id            149396 non-null  object \n",
      " 2   mb_used       149396 non-null  float64\n",
      " 3   session_date  149396 non-null  object \n",
      " 4   user_id       149396 non-null  int64  \n",
      "dtypes: float64(1), int64(2), object(2)\n",
      "memory usage: 5.7+ MB\n",
      "None\n"
     ]
    },
    {
     "data": {
      "text/html": [
       "<div>\n",
       "<style scoped>\n",
       "    .dataframe tbody tr th:only-of-type {\n",
       "        vertical-align: middle;\n",
       "    }\n",
       "\n",
       "    .dataframe tbody tr th {\n",
       "        vertical-align: top;\n",
       "    }\n",
       "\n",
       "    .dataframe thead th {\n",
       "        text-align: right;\n",
       "    }\n",
       "</style>\n",
       "<table border=\"1\" class=\"dataframe\">\n",
       "  <thead>\n",
       "    <tr style=\"text-align: right;\">\n",
       "      <th></th>\n",
       "      <th>Unnamed: 0</th>\n",
       "      <th>id</th>\n",
       "      <th>mb_used</th>\n",
       "      <th>session_date</th>\n",
       "      <th>user_id</th>\n",
       "    </tr>\n",
       "  </thead>\n",
       "  <tbody>\n",
       "    <tr>\n",
       "      <th>0</th>\n",
       "      <td>0</td>\n",
       "      <td>1000_0</td>\n",
       "      <td>112.95</td>\n",
       "      <td>2018-11-25</td>\n",
       "      <td>1000</td>\n",
       "    </tr>\n",
       "    <tr>\n",
       "      <th>1</th>\n",
       "      <td>1</td>\n",
       "      <td>1000_1</td>\n",
       "      <td>1052.81</td>\n",
       "      <td>2018-09-07</td>\n",
       "      <td>1000</td>\n",
       "    </tr>\n",
       "    <tr>\n",
       "      <th>2</th>\n",
       "      <td>2</td>\n",
       "      <td>1000_2</td>\n",
       "      <td>1197.26</td>\n",
       "      <td>2018-06-25</td>\n",
       "      <td>1000</td>\n",
       "    </tr>\n",
       "    <tr>\n",
       "      <th>3</th>\n",
       "      <td>3</td>\n",
       "      <td>1000_3</td>\n",
       "      <td>550.27</td>\n",
       "      <td>2018-08-22</td>\n",
       "      <td>1000</td>\n",
       "    </tr>\n",
       "    <tr>\n",
       "      <th>4</th>\n",
       "      <td>4</td>\n",
       "      <td>1000_4</td>\n",
       "      <td>302.56</td>\n",
       "      <td>2018-09-24</td>\n",
       "      <td>1000</td>\n",
       "    </tr>\n",
       "  </tbody>\n",
       "</table>\n",
       "</div>"
      ],
      "text/plain": [
       "   Unnamed: 0      id  mb_used session_date  user_id\n",
       "0           0  1000_0   112.95   2018-11-25     1000\n",
       "1           1  1000_1  1052.81   2018-09-07     1000\n",
       "2           2  1000_2  1197.26   2018-06-25     1000\n",
       "3           3  1000_3   550.27   2018-08-22     1000\n",
       "4           4  1000_4   302.56   2018-09-24     1000"
      ]
     },
     "metadata": {},
     "output_type": "display_data"
    },
    {
     "name": "stdout",
     "output_type": "stream",
     "text": [
      "\n",
      "======= < DATASET > ===================================\n",
      "\n",
      "<class 'pandas.core.frame.DataFrame'>\n",
      "RangeIndex: 2 entries, 0 to 1\n",
      "Data columns (total 8 columns):\n",
      " #   Column                 Non-Null Count  Dtype \n",
      "---  ------                 --------------  ----- \n",
      " 0   messages_included      2 non-null      int64 \n",
      " 1   mb_per_month_included  2 non-null      int64 \n",
      " 2   minutes_included       2 non-null      int64 \n",
      " 3   rub_monthly_fee        2 non-null      int64 \n",
      " 4   rub_per_gb             2 non-null      int64 \n",
      " 5   rub_per_message        2 non-null      int64 \n",
      " 6   rub_per_minute         2 non-null      int64 \n",
      " 7   tariff_name            2 non-null      object\n",
      "dtypes: int64(7), object(1)\n",
      "memory usage: 256.0+ bytes\n",
      "None\n"
     ]
    },
    {
     "data": {
      "text/html": [
       "<div>\n",
       "<style scoped>\n",
       "    .dataframe tbody tr th:only-of-type {\n",
       "        vertical-align: middle;\n",
       "    }\n",
       "\n",
       "    .dataframe tbody tr th {\n",
       "        vertical-align: top;\n",
       "    }\n",
       "\n",
       "    .dataframe thead th {\n",
       "        text-align: right;\n",
       "    }\n",
       "</style>\n",
       "<table border=\"1\" class=\"dataframe\">\n",
       "  <thead>\n",
       "    <tr style=\"text-align: right;\">\n",
       "      <th></th>\n",
       "      <th>messages_included</th>\n",
       "      <th>mb_per_month_included</th>\n",
       "      <th>minutes_included</th>\n",
       "      <th>rub_monthly_fee</th>\n",
       "      <th>rub_per_gb</th>\n",
       "      <th>rub_per_message</th>\n",
       "      <th>rub_per_minute</th>\n",
       "      <th>tariff_name</th>\n",
       "    </tr>\n",
       "  </thead>\n",
       "  <tbody>\n",
       "    <tr>\n",
       "      <th>0</th>\n",
       "      <td>50</td>\n",
       "      <td>15360</td>\n",
       "      <td>500</td>\n",
       "      <td>550</td>\n",
       "      <td>200</td>\n",
       "      <td>3</td>\n",
       "      <td>3</td>\n",
       "      <td>smart</td>\n",
       "    </tr>\n",
       "    <tr>\n",
       "      <th>1</th>\n",
       "      <td>1000</td>\n",
       "      <td>30720</td>\n",
       "      <td>3000</td>\n",
       "      <td>1950</td>\n",
       "      <td>150</td>\n",
       "      <td>1</td>\n",
       "      <td>1</td>\n",
       "      <td>ultra</td>\n",
       "    </tr>\n",
       "  </tbody>\n",
       "</table>\n",
       "</div>"
      ],
      "text/plain": [
       "   messages_included  mb_per_month_included  minutes_included  \\\n",
       "0                 50                  15360               500   \n",
       "1               1000                  30720              3000   \n",
       "\n",
       "   rub_monthly_fee  rub_per_gb  rub_per_message  rub_per_minute tariff_name  \n",
       "0              550         200                3               3       smart  \n",
       "1             1950         150                1               1       ultra  "
      ]
     },
     "metadata": {},
     "output_type": "display_data"
    },
    {
     "name": "stdout",
     "output_type": "stream",
     "text": [
      "\n",
      "\n",
      "Число дубликатов: 0\n"
     ]
    }
   ],
   "source": [
    "# Импортируем необходимые библиотеки:\n",
    "import pandas as pd\n",
    "import seaborn as sns\n",
    "sns.set(color_codes=True)\n",
    "\n",
    "import matplotlib.pyplot as plt\n",
    "import numpy as np\n",
    "import scipy.stats as st\n",
    "from functools import reduce\n",
    "idx = pd.IndexSlice\n",
    "from scipy import stats as st\n",
    "\n",
    "#Импортируем данные:\n",
    "\n",
    "calls = pd.read_csv('/datasets/calls.csv')\n",
    "internet = pd.read_csv('/datasets/internet.csv')\n",
    "messages = pd.read_csv('/datasets/messages.csv')\n",
    "tariffs = pd.read_csv('/datasets/tariffs.csv')\n",
    "users = pd.read_csv('/datasets/users.csv')\n",
    "\n",
    "\n",
    "def dataset_info(data): # Для первичного ознакомления с ДатаСетом\n",
    "    print(data.info())\n",
    "    display(data.head())\n",
    "    \n",
    "for data in [users, calls, messages, internet, tariffs]:\n",
    "    print('======= < DATASET > ===================================')\n",
    "    print()\n",
    "    dataset_info(data)\n",
    "    print()\n",
    "print('\\nЧисло дубликатов:', data.duplicated().sum())\n"
   ]
  },
  {
   "cell_type": "markdown",
   "metadata": {},
   "source": [
    "ВЫВОД: Датасет содержит данные по 500 клиентам, потребуется заменить тип данных у столбцов с датой и временем, а также округлить значения минут разговора и мегабайт использованного трафика в большую сторону, так как тарифы считаются по минутам и мегабайтам.\n",
    "\n",
    "Кроме того, после объединения данных (сводная таблица по звонкам, по сообщениям и интернет-трафику) возникнут пропущенные значения (клиент мог в каком-то месяце не писать сообщений, но звонить и использовать интернет), которые также нужно будет заменить на нули.\n",
    "Дубликатов нет,  сравнительно чистые данные."
   ]
  },
  {
   "cell_type": "markdown",
   "metadata": {},
   "source": [
    "### Подготовка данных"
   ]
  },
  {
   "cell_type": "markdown",
   "metadata": {},
   "source": [
    "#### Приведение данных к нужным типам"
   ]
  },
  {
   "cell_type": "code",
   "execution_count": 2,
   "metadata": {},
   "outputs": [],
   "source": [
    "#Каждую из 3 базовых вначале приведем даты к формату datetime\n",
    "calls['call_date'] = pd.to_datetime(calls['call_date'], format='%Y-%m-%d')\n",
    "messages['message_date'] = pd.to_datetime(messages['message_date'], format='%Y-%m-%d')\n",
    "internet['session_date'] = pd.to_datetime(internet['session_date'], format='%Y-%m-%d')\n",
    "#Добавим в каждую из 3 базовых таблиц с данными колонку с месяцем\n",
    "calls['month'] = pd.to_datetime(calls['call_date']).dt.month\n",
    "messages['month'] = pd.to_datetime(messages['message_date']).dt.month\n",
    "internet['month'] = pd.to_datetime(internet['session_date']).dt.month"
   ]
  },
  {
   "cell_type": "code",
   "execution_count": 3,
   "metadata": {},
   "outputs": [
    {
     "name": "stdout",
     "output_type": "stream",
     "text": [
      "Количество звонков с длительностью, равной нулю: 39613\n"
     ]
    }
   ],
   "source": [
    "# выведем количество звонков равных нулю\n",
    "print('Количество звонков с длительностью, равной нулю:', calls.loc[calls['duration'] == 0, 'duration'].value_counts()[0])"
   ]
  },
  {
   "cell_type": "code",
   "execution_count": 4,
   "metadata": {},
   "outputs": [
    {
     "data": {
      "image/png": "[encoded data removed]",
      "text/plain": [
       "<Figure size 360x360 with 1 Axes>"
      ]
     },
     "metadata": {},
     "output_type": "display_data"
    }
   ],
   "source": [
    "# построим график зависимости количества нулевых значений от общего числа звонков за каждый месяц\n",
    "calls.loc[calls['duration'] == 0, 'nulls_count'] = 1\n",
    "null_calls = calls.pivot_table(index='month', values=['id', 'nulls_count'], aggfunc='count')\n",
    "null_calls['null_ratio'] = round(null_calls['nulls_count'] / null_calls['id'], 3)\n",
    "\n",
    "sns.relplot(x='id', y='nulls_count', data=null_calls)\n",
    "plt.xlabel('Общее число звонков по месяцам')\n",
    "plt.ylabel('Число звонков с нулевой продолжительностью')\n",
    "_ = plt.title('Зависимость количества нулевых значений от общего числа звонков за каждый месяц')\n"
   ]
  },
  {
   "cell_type": "markdown",
   "metadata": {},
   "source": [
    "Таким образом, доля звонков с нулевой продолжительностью стационарна, и их появление систематично. Округлим все значения в большую сторону (т.к. тариф считается по минутам), а нулевые значения заменим на 1.\n",
    "\n"
   ]
  },
  {
   "cell_type": "code",
   "execution_count": 5,
   "metadata": {},
   "outputs": [
    {
     "data": {
      "image/png": "[encoded data removed]",
      "text/plain": [
       "<Figure size 360x360 with 1 Axes>"
      ]
     },
     "metadata": {},
     "output_type": "display_data"
    }
   ],
   "source": [
    "# интернет сессии\n",
    "# построим график зависимости количества нулевых значений от общего числа интернет-сессий за каждый месяц\n",
    "internet.loc[internet['mb_used'] == 0, 'nulls_count'] = 1\n",
    "null_mb = internet.pivot_table(index='month', values=['id', 'nulls_count'], aggfunc='count')\n",
    "null_mb['null_ratio'] = round(null_mb['nulls_count'] / null_mb['id'], 3)\n",
    "\n",
    "sns.relplot(x='id', y='nulls_count', data=null_mb, color='tab:red')\n",
    "plt.xlabel('Общее число интернет-сессий по месяцам')\n",
    "plt.ylabel('Число интернет-сессий с нулевым трафиком')\n",
    "_ = plt.title('Зависимость количества нулевых значений от общего числа интернет-сессий за каждый месяц')"
   ]
  },
  {
   "cell_type": "markdown",
   "metadata": {},
   "source": [
    "Вывод по нулевым значениям интернет-сесссий аналогичен. Округлим все значения в большую сторону (т.к. тариф считается по мегабайтам), а нулевые значения заменим на 1."
   ]
  },
  {
   "cell_type": "markdown",
   "metadata": {},
   "source": [
    "ВЫВОД: Провели необходимые изменения типов данных.Перевод мб в гб в таблице с интернет-трафиком осуществим при дальнейшем анализе."
   ]
  },
  {
   "cell_type": "markdown",
   "metadata": {},
   "source": [
    "#### Нахождение и исправление ошибок "
   ]
  },
  {
   "cell_type": "markdown",
   "metadata": {},
   "source": [
    "Посчитайте для каждого пользователя:\n",
    "\n",
    "* количество сделанных звонков и израсходованных минут разговора по месяцам;\n",
    "* количество отправленных сообщений по месяцам;\n",
    "* объем израсходованного интернет-трафика по месяцам;\n",
    "* помесячную выручку с каждого пользователя (вычтите бесплатный лимит из суммарного количества звонков, сообщений и интернет-трафика; остаток умножьте на значение из тарифного плана; прибавьте абонентскую плату, соответствующую тарифному плану)."
   ]
  },
  {
   "cell_type": "code",
   "execution_count": 6,
   "metadata": {},
   "outputs": [
    {
     "data": {
      "text/html": [
       "<div>\n",
       "<style scoped>\n",
       "    .dataframe tbody tr th:only-of-type {\n",
       "        vertical-align: middle;\n",
       "    }\n",
       "\n",
       "    .dataframe tbody tr th {\n",
       "        vertical-align: top;\n",
       "    }\n",
       "\n",
       "    .dataframe thead th {\n",
       "        text-align: right;\n",
       "    }\n",
       "</style>\n",
       "<table border=\"1\" class=\"dataframe\">\n",
       "  <thead>\n",
       "    <tr style=\"text-align: right;\">\n",
       "      <th></th>\n",
       "      <th></th>\n",
       "      <th>duration</th>\n",
       "      <th>calls</th>\n",
       "      <th>messages</th>\n",
       "      <th>mb_used</th>\n",
       "    </tr>\n",
       "    <tr>\n",
       "      <th>user_id</th>\n",
       "      <th>month</th>\n",
       "      <th></th>\n",
       "      <th></th>\n",
       "      <th></th>\n",
       "      <th></th>\n",
       "    </tr>\n",
       "  </thead>\n",
       "  <tbody>\n",
       "    <tr>\n",
       "      <th rowspan=\"8\" valign=\"top\">1000</th>\n",
       "      <th>5</th>\n",
       "      <td>150.06</td>\n",
       "      <td>22.0</td>\n",
       "      <td>22.0</td>\n",
       "      <td>2253.49</td>\n",
       "    </tr>\n",
       "    <tr>\n",
       "      <th>6</th>\n",
       "      <td>158.90</td>\n",
       "      <td>43.0</td>\n",
       "      <td>60.0</td>\n",
       "      <td>23233.77</td>\n",
       "    </tr>\n",
       "    <tr>\n",
       "      <th>7</th>\n",
       "      <td>318.80</td>\n",
       "      <td>47.0</td>\n",
       "      <td>75.0</td>\n",
       "      <td>14003.64</td>\n",
       "    </tr>\n",
       "    <tr>\n",
       "      <th>8</th>\n",
       "      <td>389.87</td>\n",
       "      <td>52.0</td>\n",
       "      <td>81.0</td>\n",
       "      <td>14055.93</td>\n",
       "    </tr>\n",
       "    <tr>\n",
       "      <th>9</th>\n",
       "      <td>440.14</td>\n",
       "      <td>58.0</td>\n",
       "      <td>57.0</td>\n",
       "      <td>14568.91</td>\n",
       "    </tr>\n",
       "    <tr>\n",
       "      <th>10</th>\n",
       "      <td>328.45</td>\n",
       "      <td>57.0</td>\n",
       "      <td>73.0</td>\n",
       "      <td>14702.49</td>\n",
       "    </tr>\n",
       "    <tr>\n",
       "      <th>11</th>\n",
       "      <td>319.04</td>\n",
       "      <td>43.0</td>\n",
       "      <td>58.0</td>\n",
       "      <td>14756.47</td>\n",
       "    </tr>\n",
       "    <tr>\n",
       "      <th>12</th>\n",
       "      <td>312.98</td>\n",
       "      <td>46.0</td>\n",
       "      <td>70.0</td>\n",
       "      <td>9817.61</td>\n",
       "    </tr>\n",
       "    <tr>\n",
       "      <th rowspan=\"2\" valign=\"top\">1001</th>\n",
       "      <th>11</th>\n",
       "      <td>408.12</td>\n",
       "      <td>59.0</td>\n",
       "      <td>NaN</td>\n",
       "      <td>18429.34</td>\n",
       "    </tr>\n",
       "    <tr>\n",
       "      <th>12</th>\n",
       "      <td>391.34</td>\n",
       "      <td>63.0</td>\n",
       "      <td>NaN</td>\n",
       "      <td>14036.66</td>\n",
       "    </tr>\n",
       "    <tr>\n",
       "      <th rowspan=\"7\" valign=\"top\">1002</th>\n",
       "      <th>6</th>\n",
       "      <td>110.37</td>\n",
       "      <td>15.0</td>\n",
       "      <td>4.0</td>\n",
       "      <td>10856.82</td>\n",
       "    </tr>\n",
       "    <tr>\n",
       "      <th>7</th>\n",
       "      <td>204.75</td>\n",
       "      <td>26.0</td>\n",
       "      <td>11.0</td>\n",
       "      <td>17580.10</td>\n",
       "    </tr>\n",
       "    <tr>\n",
       "      <th>8</th>\n",
       "      <td>269.71</td>\n",
       "      <td>42.0</td>\n",
       "      <td>13.0</td>\n",
       "      <td>20319.26</td>\n",
       "    </tr>\n",
       "    <tr>\n",
       "      <th>9</th>\n",
       "      <td>195.85</td>\n",
       "      <td>36.0</td>\n",
       "      <td>4.0</td>\n",
       "      <td>16691.08</td>\n",
       "    </tr>\n",
       "    <tr>\n",
       "      <th>10</th>\n",
       "      <td>199.48</td>\n",
       "      <td>33.0</td>\n",
       "      <td>10.0</td>\n",
       "      <td>13888.25</td>\n",
       "    </tr>\n",
       "    <tr>\n",
       "      <th>11</th>\n",
       "      <td>228.03</td>\n",
       "      <td>32.0</td>\n",
       "      <td>16.0</td>\n",
       "      <td>18587.28</td>\n",
       "    </tr>\n",
       "    <tr>\n",
       "      <th>12</th>\n",
       "      <td>222.98</td>\n",
       "      <td>33.0</td>\n",
       "      <td>12.0</td>\n",
       "      <td>18113.73</td>\n",
       "    </tr>\n",
       "    <tr>\n",
       "      <th rowspan=\"3\" valign=\"top\">1003</th>\n",
       "      <th>8</th>\n",
       "      <td>355.67</td>\n",
       "      <td>55.0</td>\n",
       "      <td>37.0</td>\n",
       "      <td>8565.21</td>\n",
       "    </tr>\n",
       "    <tr>\n",
       "      <th>9</th>\n",
       "      <td>904.89</td>\n",
       "      <td>134.0</td>\n",
       "      <td>91.0</td>\n",
       "      <td>12468.87</td>\n",
       "    </tr>\n",
       "    <tr>\n",
       "      <th>10</th>\n",
       "      <td>809.07</td>\n",
       "      <td>108.0</td>\n",
       "      <td>83.0</td>\n",
       "      <td>14768.14</td>\n",
       "    </tr>\n",
       "  </tbody>\n",
       "</table>\n",
       "</div>"
      ],
      "text/plain": [
       "               duration  calls  messages   mb_used\n",
       "user_id month                                     \n",
       "1000    5        150.06   22.0      22.0   2253.49\n",
       "        6        158.90   43.0      60.0  23233.77\n",
       "        7        318.80   47.0      75.0  14003.64\n",
       "        8        389.87   52.0      81.0  14055.93\n",
       "        9        440.14   58.0      57.0  14568.91\n",
       "        10       328.45   57.0      73.0  14702.49\n",
       "        11       319.04   43.0      58.0  14756.47\n",
       "        12       312.98   46.0      70.0   9817.61\n",
       "1001    11       408.12   59.0       NaN  18429.34\n",
       "        12       391.34   63.0       NaN  14036.66\n",
       "1002    6        110.37   15.0       4.0  10856.82\n",
       "        7        204.75   26.0      11.0  17580.10\n",
       "        8        269.71   42.0      13.0  20319.26\n",
       "        9        195.85   36.0       4.0  16691.08\n",
       "        10       199.48   33.0      10.0  13888.25\n",
       "        11       228.03   32.0      16.0  18587.28\n",
       "        12       222.98   33.0      12.0  18113.73\n",
       "1003    8        355.67   55.0      37.0   8565.21\n",
       "        9        904.89  134.0      91.0  12468.87\n",
       "        10       809.07  108.0      83.0  14768.14"
      ]
     },
     "execution_count": 6,
     "metadata": {},
     "output_type": "execute_result"
    }
   ],
   "source": [
    "# для подсчета при создании сводной таблицы объединим  \"users\" в один \"users name\"\n",
    "users['unique_name'] = users['city'] + users['first_name'] + users['last_name']\n",
    "\n",
    "# сводная таблица по звонкам\n",
    "calls_temp = calls.merge(users, on='user_id', how='inner')\n",
    "calls_grouped = calls_temp.pivot_table(values=['unique_name', 'duration'], \n",
    "                       index=['user_id', 'month'], \n",
    "                       aggfunc={'unique_name': 'count', 'duration': 'sum'})\n",
    "calls_grouped.columns = ['duration', 'calls']\n",
    "\n",
    "# сводная таблица по сообщениям\n",
    "messages['month'] = messages['message_date'].dt.month\n",
    "messages_temp = messages.merge(users, on='user_id', how='inner')\n",
    "messages_grouped = messages_temp.pivot_table(values='unique_name', \n",
    "                       index=['user_id', 'month'], \n",
    "                       aggfunc={'unique_name': 'count'})\n",
    "messages_grouped.columns = ['messages']\n",
    "\n",
    "# сводная таблица по интернет-трафику\n",
    "internet['month'] = internet['session_date'].dt.month\n",
    "internet_temp = internet.merge(users, on='user_id', how='inner')\n",
    "internet_grouped = internet_temp.pivot_table(values='mb_used', \n",
    "                       index=['user_id', 'month'], \n",
    "                       aggfunc={'mb_used': 'sum'})\n",
    "internet_grouped.columns = ['mb_used']\n",
    "\n",
    "# объединяем все три сводные таблицы в одну\n",
    "dfs = [calls_grouped, messages_grouped, internet_grouped]\n",
    "grouped_data = reduce(lambda left,right: pd.merge(left,right,on=['user_id', 'month'], how='outer'), dfs)\n",
    "grouped_data.head(20)\n"
   ]
  },
  {
   "cell_type": "code",
   "execution_count": 7,
   "metadata": {},
   "outputs": [
    {
     "data": {
      "text/plain": [
       "498"
      ]
     },
     "execution_count": 7,
     "metadata": {},
     "output_type": "execute_result"
    }
   ],
   "source": [
    "len(grouped_data.reset_index()['user_id'].unique())"
   ]
  },
  {
   "cell_type": "markdown",
   "metadata": {},
   "source": [
    "Как видим на 2 абонентов стало меньше (абоненты по которым не было ни звонков, ни смс, ни интернета), что в свою очередь не представляет для исследования интереса."
   ]
  },
  {
   "cell_type": "code",
   "execution_count": 8,
   "metadata": {},
   "outputs": [
    {
     "data": {
      "text/html": [
       "<div>\n",
       "<style scoped>\n",
       "    .dataframe tbody tr th:only-of-type {\n",
       "        vertical-align: middle;\n",
       "    }\n",
       "\n",
       "    .dataframe tbody tr th {\n",
       "        vertical-align: top;\n",
       "    }\n",
       "\n",
       "    .dataframe thead th {\n",
       "        text-align: right;\n",
       "    }\n",
       "</style>\n",
       "<table border=\"1\" class=\"dataframe\">\n",
       "  <thead>\n",
       "    <tr style=\"text-align: right;\">\n",
       "      <th></th>\n",
       "      <th></th>\n",
       "      <th>duration</th>\n",
       "      <th>calls</th>\n",
       "      <th>messages</th>\n",
       "      <th>mb_used</th>\n",
       "    </tr>\n",
       "    <tr>\n",
       "      <th>user_id</th>\n",
       "      <th>month</th>\n",
       "      <th></th>\n",
       "      <th></th>\n",
       "      <th></th>\n",
       "      <th></th>\n",
       "    </tr>\n",
       "  </thead>\n",
       "  <tbody>\n",
       "    <tr>\n",
       "      <th rowspan=\"8\" valign=\"top\">1000</th>\n",
       "      <th>5</th>\n",
       "      <td>150.06</td>\n",
       "      <td>22.0</td>\n",
       "      <td>22.0</td>\n",
       "      <td>2253.49</td>\n",
       "    </tr>\n",
       "    <tr>\n",
       "      <th>6</th>\n",
       "      <td>158.90</td>\n",
       "      <td>43.0</td>\n",
       "      <td>60.0</td>\n",
       "      <td>23233.77</td>\n",
       "    </tr>\n",
       "    <tr>\n",
       "      <th>7</th>\n",
       "      <td>318.80</td>\n",
       "      <td>47.0</td>\n",
       "      <td>75.0</td>\n",
       "      <td>14003.64</td>\n",
       "    </tr>\n",
       "    <tr>\n",
       "      <th>8</th>\n",
       "      <td>389.87</td>\n",
       "      <td>52.0</td>\n",
       "      <td>81.0</td>\n",
       "      <td>14055.93</td>\n",
       "    </tr>\n",
       "    <tr>\n",
       "      <th>9</th>\n",
       "      <td>440.14</td>\n",
       "      <td>58.0</td>\n",
       "      <td>57.0</td>\n",
       "      <td>14568.91</td>\n",
       "    </tr>\n",
       "    <tr>\n",
       "      <th>10</th>\n",
       "      <td>328.45</td>\n",
       "      <td>57.0</td>\n",
       "      <td>73.0</td>\n",
       "      <td>14702.49</td>\n",
       "    </tr>\n",
       "    <tr>\n",
       "      <th>11</th>\n",
       "      <td>319.04</td>\n",
       "      <td>43.0</td>\n",
       "      <td>58.0</td>\n",
       "      <td>14756.47</td>\n",
       "    </tr>\n",
       "    <tr>\n",
       "      <th>12</th>\n",
       "      <td>312.98</td>\n",
       "      <td>46.0</td>\n",
       "      <td>70.0</td>\n",
       "      <td>9817.61</td>\n",
       "    </tr>\n",
       "    <tr>\n",
       "      <th rowspan=\"2\" valign=\"top\">1001</th>\n",
       "      <th>11</th>\n",
       "      <td>408.12</td>\n",
       "      <td>59.0</td>\n",
       "      <td>0.0</td>\n",
       "      <td>18429.34</td>\n",
       "    </tr>\n",
       "    <tr>\n",
       "      <th>12</th>\n",
       "      <td>391.34</td>\n",
       "      <td>63.0</td>\n",
       "      <td>0.0</td>\n",
       "      <td>14036.66</td>\n",
       "    </tr>\n",
       "    <tr>\n",
       "      <th rowspan=\"7\" valign=\"top\">1002</th>\n",
       "      <th>6</th>\n",
       "      <td>110.37</td>\n",
       "      <td>15.0</td>\n",
       "      <td>4.0</td>\n",
       "      <td>10856.82</td>\n",
       "    </tr>\n",
       "    <tr>\n",
       "      <th>7</th>\n",
       "      <td>204.75</td>\n",
       "      <td>26.0</td>\n",
       "      <td>11.0</td>\n",
       "      <td>17580.10</td>\n",
       "    </tr>\n",
       "    <tr>\n",
       "      <th>8</th>\n",
       "      <td>269.71</td>\n",
       "      <td>42.0</td>\n",
       "      <td>13.0</td>\n",
       "      <td>20319.26</td>\n",
       "    </tr>\n",
       "    <tr>\n",
       "      <th>9</th>\n",
       "      <td>195.85</td>\n",
       "      <td>36.0</td>\n",
       "      <td>4.0</td>\n",
       "      <td>16691.08</td>\n",
       "    </tr>\n",
       "    <tr>\n",
       "      <th>10</th>\n",
       "      <td>199.48</td>\n",
       "      <td>33.0</td>\n",
       "      <td>10.0</td>\n",
       "      <td>13888.25</td>\n",
       "    </tr>\n",
       "    <tr>\n",
       "      <th>11</th>\n",
       "      <td>228.03</td>\n",
       "      <td>32.0</td>\n",
       "      <td>16.0</td>\n",
       "      <td>18587.28</td>\n",
       "    </tr>\n",
       "    <tr>\n",
       "      <th>12</th>\n",
       "      <td>222.98</td>\n",
       "      <td>33.0</td>\n",
       "      <td>12.0</td>\n",
       "      <td>18113.73</td>\n",
       "    </tr>\n",
       "    <tr>\n",
       "      <th rowspan=\"3\" valign=\"top\">1003</th>\n",
       "      <th>8</th>\n",
       "      <td>355.67</td>\n",
       "      <td>55.0</td>\n",
       "      <td>37.0</td>\n",
       "      <td>8565.21</td>\n",
       "    </tr>\n",
       "    <tr>\n",
       "      <th>9</th>\n",
       "      <td>904.89</td>\n",
       "      <td>134.0</td>\n",
       "      <td>91.0</td>\n",
       "      <td>12468.87</td>\n",
       "    </tr>\n",
       "    <tr>\n",
       "      <th>10</th>\n",
       "      <td>809.07</td>\n",
       "      <td>108.0</td>\n",
       "      <td>83.0</td>\n",
       "      <td>14768.14</td>\n",
       "    </tr>\n",
       "  </tbody>\n",
       "</table>\n",
       "</div>"
      ],
      "text/plain": [
       "               duration  calls  messages   mb_used\n",
       "user_id month                                     \n",
       "1000    5        150.06   22.0      22.0   2253.49\n",
       "        6        158.90   43.0      60.0  23233.77\n",
       "        7        318.80   47.0      75.0  14003.64\n",
       "        8        389.87   52.0      81.0  14055.93\n",
       "        9        440.14   58.0      57.0  14568.91\n",
       "        10       328.45   57.0      73.0  14702.49\n",
       "        11       319.04   43.0      58.0  14756.47\n",
       "        12       312.98   46.0      70.0   9817.61\n",
       "1001    11       408.12   59.0       0.0  18429.34\n",
       "        12       391.34   63.0       0.0  14036.66\n",
       "1002    6        110.37   15.0       4.0  10856.82\n",
       "        7        204.75   26.0      11.0  17580.10\n",
       "        8        269.71   42.0      13.0  20319.26\n",
       "        9        195.85   36.0       4.0  16691.08\n",
       "        10       199.48   33.0      10.0  13888.25\n",
       "        11       228.03   32.0      16.0  18587.28\n",
       "        12       222.98   33.0      12.0  18113.73\n",
       "1003    8        355.67   55.0      37.0   8565.21\n",
       "        9        904.89  134.0      91.0  12468.87\n",
       "        10       809.07  108.0      83.0  14768.14"
      ]
     },
     "execution_count": 8,
     "metadata": {},
     "output_type": "execute_result"
    }
   ],
   "source": [
    "# пропущенные значения заменяем на нули\n",
    "grouped_data.loc[grouped_data['duration'].isna(), 'duration'] = 0\n",
    "grouped_data.loc[grouped_data['messages'].isna(), 'messages'] = 0\n",
    "grouped_data.loc[grouped_data['mb_used'].isna(), 'mb_used'] = 0\n",
    "\n",
    "grouped_data.head(20)   "
   ]
  },
  {
   "cell_type": "code",
   "execution_count": 9,
   "metadata": {},
   "outputs": [
    {
     "data": {
      "text/html": [
       "<div>\n",
       "<style scoped>\n",
       "    .dataframe tbody tr th:only-of-type {\n",
       "        vertical-align: middle;\n",
       "    }\n",
       "\n",
       "    .dataframe tbody tr th {\n",
       "        vertical-align: top;\n",
       "    }\n",
       "\n",
       "    .dataframe thead th {\n",
       "        text-align: right;\n",
       "    }\n",
       "</style>\n",
       "<table border=\"1\" class=\"dataframe\">\n",
       "  <thead>\n",
       "    <tr style=\"text-align: right;\">\n",
       "      <th></th>\n",
       "      <th></th>\n",
       "      <th>duration</th>\n",
       "      <th>calls</th>\n",
       "      <th>messages</th>\n",
       "      <th>mb_used</th>\n",
       "      <th>tariff</th>\n",
       "      <th>revenue</th>\n",
       "    </tr>\n",
       "    <tr>\n",
       "      <th>user_id</th>\n",
       "      <th>month</th>\n",
       "      <th></th>\n",
       "      <th></th>\n",
       "      <th></th>\n",
       "      <th></th>\n",
       "      <th></th>\n",
       "      <th></th>\n",
       "    </tr>\n",
       "  </thead>\n",
       "  <tbody>\n",
       "    <tr>\n",
       "      <th rowspan=\"8\" valign=\"top\">1000</th>\n",
       "      <th>5</th>\n",
       "      <td>150.06</td>\n",
       "      <td>22.0</td>\n",
       "      <td>22.0</td>\n",
       "      <td>2253.49</td>\n",
       "      <td>ultra</td>\n",
       "      <td>1950.000000</td>\n",
       "    </tr>\n",
       "    <tr>\n",
       "      <th>6</th>\n",
       "      <td>158.90</td>\n",
       "      <td>43.0</td>\n",
       "      <td>60.0</td>\n",
       "      <td>23233.77</td>\n",
       "      <td>ultra</td>\n",
       "      <td>1950.000000</td>\n",
       "    </tr>\n",
       "    <tr>\n",
       "      <th>7</th>\n",
       "      <td>318.80</td>\n",
       "      <td>47.0</td>\n",
       "      <td>75.0</td>\n",
       "      <td>14003.64</td>\n",
       "      <td>ultra</td>\n",
       "      <td>1950.000000</td>\n",
       "    </tr>\n",
       "    <tr>\n",
       "      <th>8</th>\n",
       "      <td>389.87</td>\n",
       "      <td>52.0</td>\n",
       "      <td>81.0</td>\n",
       "      <td>14055.93</td>\n",
       "      <td>ultra</td>\n",
       "      <td>1950.000000</td>\n",
       "    </tr>\n",
       "    <tr>\n",
       "      <th>9</th>\n",
       "      <td>440.14</td>\n",
       "      <td>58.0</td>\n",
       "      <td>57.0</td>\n",
       "      <td>14568.91</td>\n",
       "      <td>ultra</td>\n",
       "      <td>1950.000000</td>\n",
       "    </tr>\n",
       "    <tr>\n",
       "      <th>10</th>\n",
       "      <td>328.45</td>\n",
       "      <td>57.0</td>\n",
       "      <td>73.0</td>\n",
       "      <td>14702.49</td>\n",
       "      <td>ultra</td>\n",
       "      <td>1950.000000</td>\n",
       "    </tr>\n",
       "    <tr>\n",
       "      <th>11</th>\n",
       "      <td>319.04</td>\n",
       "      <td>43.0</td>\n",
       "      <td>58.0</td>\n",
       "      <td>14756.47</td>\n",
       "      <td>ultra</td>\n",
       "      <td>1950.000000</td>\n",
       "    </tr>\n",
       "    <tr>\n",
       "      <th>12</th>\n",
       "      <td>312.98</td>\n",
       "      <td>46.0</td>\n",
       "      <td>70.0</td>\n",
       "      <td>9817.61</td>\n",
       "      <td>ultra</td>\n",
       "      <td>1950.000000</td>\n",
       "    </tr>\n",
       "    <tr>\n",
       "      <th rowspan=\"2\" valign=\"top\">1001</th>\n",
       "      <th>11</th>\n",
       "      <td>408.12</td>\n",
       "      <td>59.0</td>\n",
       "      <td>0.0</td>\n",
       "      <td>18429.34</td>\n",
       "      <td>smart</td>\n",
       "      <td>1149.480469</td>\n",
       "    </tr>\n",
       "    <tr>\n",
       "      <th>12</th>\n",
       "      <td>391.34</td>\n",
       "      <td>63.0</td>\n",
       "      <td>0.0</td>\n",
       "      <td>14036.66</td>\n",
       "      <td>smart</td>\n",
       "      <td>550.000000</td>\n",
       "    </tr>\n",
       "  </tbody>\n",
       "</table>\n",
       "</div>"
      ],
      "text/plain": [
       "               duration  calls  messages   mb_used tariff      revenue\n",
       "user_id month                                                         \n",
       "1000    5        150.06   22.0      22.0   2253.49  ultra  1950.000000\n",
       "        6        158.90   43.0      60.0  23233.77  ultra  1950.000000\n",
       "        7        318.80   47.0      75.0  14003.64  ultra  1950.000000\n",
       "        8        389.87   52.0      81.0  14055.93  ultra  1950.000000\n",
       "        9        440.14   58.0      57.0  14568.91  ultra  1950.000000\n",
       "        10       328.45   57.0      73.0  14702.49  ultra  1950.000000\n",
       "        11       319.04   43.0      58.0  14756.47  ultra  1950.000000\n",
       "        12       312.98   46.0      70.0   9817.61  ultra  1950.000000\n",
       "1001    11       408.12   59.0       0.0  18429.34  smart  1149.480469\n",
       "        12       391.34   63.0       0.0  14036.66  smart   550.000000"
      ]
     },
     "execution_count": 9,
     "metadata": {},
     "output_type": "execute_result"
    }
   ],
   "source": [
    "# добавим наименование используемого тарифа для каждого пользователя\n",
    "for user in grouped_data.index:\n",
    "    grouped_data.loc[user, 'tariff'] = users.loc[user[0]-1000, 'tariff']\n",
    "\n",
    "# функция подсчета выручки с каждого пользователя в месяц + добавление столбца доход (revenue), и группиррвка по нему.\n",
    "def det_revenue(row):\n",
    "    messages = row['messages']\n",
    "    mb_used = row['mb_used']\n",
    "    tariff = row['tariff']\n",
    "    duration = row['duration']\n",
    "    calls = row['calls']\n",
    "    \n",
    "    if tariff == 'smart':\n",
    "        extra_duration = duration - tariffs.loc[0, 'minutes_included']\n",
    "        extra_mb = mb_used - tariffs.loc[0, 'mb_per_month_included']\n",
    "        extra_messages = messages - tariffs.loc[0, 'messages_included']\n",
    "        \n",
    "        if extra_duration < 0: extra_duration = 0\n",
    "        if extra_mb < 0: extra_mb = 0\n",
    "        if extra_messages < 0: extra_messages = 0\n",
    "        \n",
    "        return (tariffs.loc[0, 'rub_per_message'] * extra_messages + \n",
    "                   (tariffs.loc[0, 'rub_per_gb'] / 1024) * extra_mb + \n",
    "                   tariffs.loc[0, 'rub_per_minute'] * extra_duration + \n",
    "                   tariffs.loc[0, 'rub_monthly_fee']\n",
    "                  ) \n",
    "    else:\n",
    "        extra_duration = duration - tariffs.loc[1, 'minutes_included']\n",
    "        extra_mb = mb_used - tariffs.loc[1, 'mb_per_month_included']\n",
    "        extra_messages = messages - tariffs.loc[1, 'messages_included']\n",
    "        \n",
    "        if extra_duration < 0: extra_duration = 0\n",
    "        if extra_mb < 0: extra_mb = 0\n",
    "        if extra_messages < 0: extra_messages = 0\n",
    "        \n",
    "        return (tariffs.loc[1, 'rub_per_message'] * extra_messages + \n",
    "                   (tariffs.loc[1, 'rub_per_gb'] / 1024) * extra_mb + \n",
    "                   tariffs.loc[1, 'rub_per_minute'] * extra_duration + \n",
    "                   tariffs.loc[1, 'rub_monthly_fee']\n",
    "                  )\n",
    "\n",
    "grouped_data['revenue'] = grouped_data.apply(det_revenue, axis=1)\n",
    "grouped_data.head(10)"
   ]
  },
  {
   "cell_type": "markdown",
   "metadata": {},
   "source": [
    "ВЫВОД: Создали новую таблицу grouped_data - в которую сгруппировали данные по каждому абоненту за каждый месяц пользования. Заполнили образовавшиеся пропуски. Рассчитали для анализа 4 столбца: min - минут/мес, mes - СМС/мес, mb - МБ/мес и revenue - выручка за месяц. Таблица готова для анализа."
   ]
  },
  {
   "cell_type": "markdown",
   "metadata": {},
   "source": [
    "### Анализ данных"
   ]
  },
  {
   "cell_type": "markdown",
   "metadata": {},
   "source": [
    "Опишите поведение клиентов оператора, исходя из выборки. Сколько минут разговора, сколько сообщений и какой объём интернет-трафика требуется пользователям каждого тарифа в месяц? Посчитайте среднее количество, дисперсию и стандартное отклонение. Постройте гистограммы. Опишите распределения."
   ]
  },
  {
   "cell_type": "code",
   "execution_count": 10,
   "metadata": {},
   "outputs": [
    {
     "data": {
      "text/html": [
       "<div>\n",
       "<style scoped>\n",
       "    .dataframe tbody tr th:only-of-type {\n",
       "        vertical-align: middle;\n",
       "    }\n",
       "\n",
       "    .dataframe tbody tr th {\n",
       "        vertical-align: top;\n",
       "    }\n",
       "\n",
       "    .dataframe thead th {\n",
       "        text-align: right;\n",
       "    }\n",
       "</style>\n",
       "<table border=\"1\" class=\"dataframe\">\n",
       "  <thead>\n",
       "    <tr style=\"text-align: right;\">\n",
       "      <th></th>\n",
       "      <th>duration</th>\n",
       "      <th>mb_used</th>\n",
       "      <th>messages</th>\n",
       "      <th>revenue</th>\n",
       "      <th>tariff</th>\n",
       "    </tr>\n",
       "    <tr>\n",
       "      <th>user_id</th>\n",
       "      <th></th>\n",
       "      <th></th>\n",
       "      <th></th>\n",
       "      <th></th>\n",
       "      <th></th>\n",
       "    </tr>\n",
       "  </thead>\n",
       "  <tbody>\n",
       "    <tr>\n",
       "      <th>1000</th>\n",
       "      <td>318.920</td>\n",
       "      <td>14312.420</td>\n",
       "      <td>65.0</td>\n",
       "      <td>1950.000000</td>\n",
       "      <td>ultra</td>\n",
       "    </tr>\n",
       "    <tr>\n",
       "      <th>1001</th>\n",
       "      <td>399.730</td>\n",
       "      <td>16233.000</td>\n",
       "      <td>0.0</td>\n",
       "      <td>849.740234</td>\n",
       "      <td>smart</td>\n",
       "    </tr>\n",
       "    <tr>\n",
       "      <th>1002</th>\n",
       "      <td>204.750</td>\n",
       "      <td>17580.100</td>\n",
       "      <td>11.0</td>\n",
       "      <td>983.613281</td>\n",
       "      <td>smart</td>\n",
       "    </tr>\n",
       "    <tr>\n",
       "      <th>1003</th>\n",
       "      <td>775.390</td>\n",
       "      <td>11356.890</td>\n",
       "      <td>83.0</td>\n",
       "      <td>1950.000000</td>\n",
       "      <td>ultra</td>\n",
       "    </tr>\n",
       "    <tr>\n",
       "      <th>1004</th>\n",
       "      <td>123.935</td>\n",
       "      <td>17810.530</td>\n",
       "      <td>154.5</td>\n",
       "      <td>1950.000000</td>\n",
       "      <td>ultra</td>\n",
       "    </tr>\n",
       "    <tr>\n",
       "      <th>1005</th>\n",
       "      <td>562.525</td>\n",
       "      <td>7833.230</td>\n",
       "      <td>49.0</td>\n",
       "      <td>743.575000</td>\n",
       "      <td>smart</td>\n",
       "    </tr>\n",
       "    <tr>\n",
       "      <th>1006</th>\n",
       "      <td>332.320</td>\n",
       "      <td>15521.530</td>\n",
       "      <td>0.0</td>\n",
       "      <td>581.548828</td>\n",
       "      <td>smart</td>\n",
       "    </tr>\n",
       "    <tr>\n",
       "      <th>1007</th>\n",
       "      <td>447.990</td>\n",
       "      <td>14427.330</td>\n",
       "      <td>26.0</td>\n",
       "      <td>763.971406</td>\n",
       "      <td>smart</td>\n",
       "    </tr>\n",
       "    <tr>\n",
       "      <th>1008</th>\n",
       "      <td>320.840</td>\n",
       "      <td>13217.140</td>\n",
       "      <td>56.0</td>\n",
       "      <td>568.000000</td>\n",
       "      <td>smart</td>\n",
       "    </tr>\n",
       "    <tr>\n",
       "      <th>1009</th>\n",
       "      <td>207.195</td>\n",
       "      <td>17731.935</td>\n",
       "      <td>12.0</td>\n",
       "      <td>1013.268555</td>\n",
       "      <td>smart</td>\n",
       "    </tr>\n",
       "    <tr>\n",
       "      <th>1010</th>\n",
       "      <td>229.790</td>\n",
       "      <td>16151.870</td>\n",
       "      <td>0.0</td>\n",
       "      <td>704.662109</td>\n",
       "      <td>smart</td>\n",
       "    </tr>\n",
       "    <tr>\n",
       "      <th>1011</th>\n",
       "      <td>428.260</td>\n",
       "      <td>18546.090</td>\n",
       "      <td>12.5</td>\n",
       "      <td>1313.450195</td>\n",
       "      <td>smart</td>\n",
       "    </tr>\n",
       "    <tr>\n",
       "      <th>1012</th>\n",
       "      <td>214.645</td>\n",
       "      <td>22184.080</td>\n",
       "      <td>14.5</td>\n",
       "      <td>1882.828125</td>\n",
       "      <td>smart</td>\n",
       "    </tr>\n",
       "    <tr>\n",
       "      <th>1013</th>\n",
       "      <td>443.890</td>\n",
       "      <td>15258.580</td>\n",
       "      <td>21.0</td>\n",
       "      <td>1950.000000</td>\n",
       "      <td>ultra</td>\n",
       "    </tr>\n",
       "    <tr>\n",
       "      <th>1014</th>\n",
       "      <td>224.780</td>\n",
       "      <td>25263.865</td>\n",
       "      <td>45.5</td>\n",
       "      <td>2488.848633</td>\n",
       "      <td>smart</td>\n",
       "    </tr>\n",
       "    <tr>\n",
       "      <th>1015</th>\n",
       "      <td>430.130</td>\n",
       "      <td>19626.910</td>\n",
       "      <td>68.0</td>\n",
       "      <td>1455.380859</td>\n",
       "      <td>smart</td>\n",
       "    </tr>\n",
       "    <tr>\n",
       "      <th>1016</th>\n",
       "      <td>57.420</td>\n",
       "      <td>13405.220</td>\n",
       "      <td>71.0</td>\n",
       "      <td>1950.000000</td>\n",
       "      <td>ultra</td>\n",
       "    </tr>\n",
       "    <tr>\n",
       "      <th>1017</th>\n",
       "      <td>355.845</td>\n",
       "      <td>17746.855</td>\n",
       "      <td>0.0</td>\n",
       "      <td>1016.182617</td>\n",
       "      <td>smart</td>\n",
       "    </tr>\n",
       "    <tr>\n",
       "      <th>1018</th>\n",
       "      <td>643.240</td>\n",
       "      <td>6334.280</td>\n",
       "      <td>25.0</td>\n",
       "      <td>1950.000000</td>\n",
       "      <td>ultra</td>\n",
       "    </tr>\n",
       "    <tr>\n",
       "      <th>1019</th>\n",
       "      <td>357.590</td>\n",
       "      <td>17193.400</td>\n",
       "      <td>20.0</td>\n",
       "      <td>1950.000000</td>\n",
       "      <td>ultra</td>\n",
       "    </tr>\n",
       "  </tbody>\n",
       "</table>\n",
       "</div>"
      ],
      "text/plain": [
       "         duration    mb_used  messages      revenue tariff\n",
       "user_id                                                   \n",
       "1000      318.920  14312.420      65.0  1950.000000  ultra\n",
       "1001      399.730  16233.000       0.0   849.740234  smart\n",
       "1002      204.750  17580.100      11.0   983.613281  smart\n",
       "1003      775.390  11356.890      83.0  1950.000000  ultra\n",
       "1004      123.935  17810.530     154.5  1950.000000  ultra\n",
       "1005      562.525   7833.230      49.0   743.575000  smart\n",
       "1006      332.320  15521.530       0.0   581.548828  smart\n",
       "1007      447.990  14427.330      26.0   763.971406  smart\n",
       "1008      320.840  13217.140      56.0   568.000000  smart\n",
       "1009      207.195  17731.935      12.0  1013.268555  smart\n",
       "1010      229.790  16151.870       0.0   704.662109  smart\n",
       "1011      428.260  18546.090      12.5  1313.450195  smart\n",
       "1012      214.645  22184.080      14.5  1882.828125  smart\n",
       "1013      443.890  15258.580      21.0  1950.000000  ultra\n",
       "1014      224.780  25263.865      45.5  2488.848633  smart\n",
       "1015      430.130  19626.910      68.0  1455.380859  smart\n",
       "1016       57.420  13405.220      71.0  1950.000000  ultra\n",
       "1017      355.845  17746.855       0.0  1016.182617  smart\n",
       "1018      643.240   6334.280      25.0  1950.000000  ultra\n",
       "1019      357.590  17193.400      20.0  1950.000000  ultra"
      ]
     },
     "execution_count": 10,
     "metadata": {},
     "output_type": "execute_result"
    }
   ],
   "source": [
    "#Посчитаем, сколько в среднем каждому пользователю требуется минут, сообщений и мегабайт в месяц\n",
    "medians = grouped_data.pivot_table(index='user_id', values=['duration', 'messages', 'mb_used', 'revenue'], aggfunc='median')\n",
    "for user_id in users['user_id']:\n",
    "    medians.loc[user_id, 'tariff'] = users.loc[user_id-1000, 'tariff']\n",
    "medians.head(20)"
   ]
  },
  {
   "cell_type": "code",
   "execution_count": 11,
   "metadata": {},
   "outputs": [
    {
     "data": {
      "text/html": [
       "<div>\n",
       "<style scoped>\n",
       "    .dataframe tbody tr th:only-of-type {\n",
       "        vertical-align: middle;\n",
       "    }\n",
       "\n",
       "    .dataframe tbody tr th {\n",
       "        vertical-align: top;\n",
       "    }\n",
       "\n",
       "    .dataframe thead th {\n",
       "        text-align: right;\n",
       "    }\n",
       "</style>\n",
       "<table border=\"1\" class=\"dataframe\">\n",
       "  <thead>\n",
       "    <tr style=\"text-align: right;\">\n",
       "      <th></th>\n",
       "      <th>revenue</th>\n",
       "    </tr>\n",
       "  </thead>\n",
       "  <tbody>\n",
       "    <tr>\n",
       "      <th>count</th>\n",
       "      <td>2229.000000</td>\n",
       "    </tr>\n",
       "    <tr>\n",
       "      <th>mean</th>\n",
       "      <td>1197.628537</td>\n",
       "    </tr>\n",
       "    <tr>\n",
       "      <th>std</th>\n",
       "      <td>767.611621</td>\n",
       "    </tr>\n",
       "    <tr>\n",
       "      <th>min</th>\n",
       "      <td>550.000000</td>\n",
       "    </tr>\n",
       "    <tr>\n",
       "      <th>25%</th>\n",
       "      <td>550.000000</td>\n",
       "    </tr>\n",
       "    <tr>\n",
       "      <th>50%</th>\n",
       "      <td>925.582031</td>\n",
       "    </tr>\n",
       "    <tr>\n",
       "      <th>75%</th>\n",
       "      <td>1603.029297</td>\n",
       "    </tr>\n",
       "    <tr>\n",
       "      <th>max</th>\n",
       "      <td>6542.875391</td>\n",
       "    </tr>\n",
       "  </tbody>\n",
       "</table>\n",
       "</div>"
      ],
      "text/plain": [
       "           revenue\n",
       "count  2229.000000\n",
       "mean   1197.628537\n",
       "std     767.611621\n",
       "min     550.000000\n",
       "25%     550.000000\n",
       "50%     925.582031\n",
       "75%    1603.029297\n",
       "max    6542.875391"
      ]
     },
     "execution_count": 11,
     "metadata": {},
     "output_type": "execute_result"
    }
   ],
   "source": [
    "# более наглядно рассмотрим на распределение выручки внутри тарифа smart\n",
    "smart_data = grouped_data.query('tariff == \"smart\"')\n",
    "smart_data[['revenue']].describe()"
   ]
  },
  {
   "cell_type": "code",
   "execution_count": 12,
   "metadata": {},
   "outputs": [
    {
     "data": {
      "text/html": [
       "<div>\n",
       "<style scoped>\n",
       "    .dataframe tbody tr th:only-of-type {\n",
       "        vertical-align: middle;\n",
       "    }\n",
       "\n",
       "    .dataframe tbody tr th {\n",
       "        vertical-align: top;\n",
       "    }\n",
       "\n",
       "    .dataframe thead th {\n",
       "        text-align: right;\n",
       "    }\n",
       "</style>\n",
       "<table border=\"1\" class=\"dataframe\">\n",
       "  <thead>\n",
       "    <tr style=\"text-align: right;\">\n",
       "      <th></th>\n",
       "      <th>revenue</th>\n",
       "    </tr>\n",
       "  </thead>\n",
       "  <tbody>\n",
       "    <tr>\n",
       "      <th>count</th>\n",
       "      <td>985.000000</td>\n",
       "    </tr>\n",
       "    <tr>\n",
       "      <th>mean</th>\n",
       "      <td>2059.868918</td>\n",
       "    </tr>\n",
       "    <tr>\n",
       "      <th>std</th>\n",
       "      <td>354.880790</td>\n",
       "    </tr>\n",
       "    <tr>\n",
       "      <th>min</th>\n",
       "      <td>1950.000000</td>\n",
       "    </tr>\n",
       "    <tr>\n",
       "      <th>25%</th>\n",
       "      <td>1950.000000</td>\n",
       "    </tr>\n",
       "    <tr>\n",
       "      <th>50%</th>\n",
       "      <td>1950.000000</td>\n",
       "    </tr>\n",
       "    <tr>\n",
       "      <th>75%</th>\n",
       "      <td>1950.000000</td>\n",
       "    </tr>\n",
       "    <tr>\n",
       "      <th>max</th>\n",
       "      <td>4736.966309</td>\n",
       "    </tr>\n",
       "  </tbody>\n",
       "</table>\n",
       "</div>"
      ],
      "text/plain": [
       "           revenue\n",
       "count   985.000000\n",
       "mean   2059.868918\n",
       "std     354.880790\n",
       "min    1950.000000\n",
       "25%    1950.000000\n",
       "50%    1950.000000\n",
       "75%    1950.000000\n",
       "max    4736.966309"
      ]
     },
     "execution_count": 12,
     "metadata": {},
     "output_type": "execute_result"
    }
   ],
   "source": [
    "# более наглядно рассмотрим на распределение выручки внутри тарифа ultra\n",
    "ultra_data = grouped_data.query('tariff == \"ultra\"')\n",
    "ultra_data[['revenue']].describe()\n"
   ]
  },
  {
   "cell_type": "markdown",
   "metadata": {},
   "source": [
    "Средняя выручка тарифа smart равна 1197.6 руб, ст.откл. = 767.6 руб.\n",
    "Cредняя выручка тарифа ultra равна 2059.8 руб, ст.откл. = 354.8 руб.\n",
    "Из чего можно сделать предварительные выводы: \n",
    " - средняя выручка ultra в 2 раза превышает smart абонентов,\n",
    " - абонентам smart в 2 раза чаще приходится выходить за рамки предоставленного тарифного пакета. Проверкой чего собственно и должно послужить тестирование основопологающей гипотезы.   "
   ]
  },
  {
   "cell_type": "code",
   "execution_count": 13,
   "metadata": {},
   "outputs": [
    {
     "data": {
      "text/html": [
       "<style  type=\"text/css\" >\n",
       "</style><table id=\"T_baa6b_\" ><thead>    <tr>        <th class=\"blank level0\" ></th>        <th class=\"col_heading level0 col0\" colspan=\"3\">duration</th>        <th class=\"col_heading level0 col3\" colspan=\"3\">mb_used</th>        <th class=\"col_heading level0 col6\" colspan=\"3\">messages</th>    </tr>    <tr>        <th class=\"blank level1\" ></th>        <th class=\"col_heading level1 col0\" >var</th>        <th class=\"col_heading level1 col1\" >std</th>        <th class=\"col_heading level1 col2\" >mean</th>        <th class=\"col_heading level1 col3\" >var</th>        <th class=\"col_heading level1 col4\" >std</th>        <th class=\"col_heading level1 col5\" >mean</th>        <th class=\"col_heading level1 col6\" >var</th>        <th class=\"col_heading level1 col7\" >std</th>        <th class=\"col_heading level1 col8\" >mean</th>    </tr>    <tr>        <th class=\"index_name level0\" >tariff</th>        <th class=\"blank\" ></th>        <th class=\"blank\" ></th>        <th class=\"blank\" ></th>        <th class=\"blank\" ></th>        <th class=\"blank\" ></th>        <th class=\"blank\" ></th>        <th class=\"blank\" ></th>        <th class=\"blank\" ></th>        <th class=\"blank\" ></th>    </tr></thead><tbody>\n",
       "                <tr>\n",
       "                        <th id=\"T_baa6b_level0_row0\" class=\"row_heading level0 row0\" >smart</th>\n",
       "                        <td id=\"T_baa6b_row0_col0\" class=\"data row0 col0\" >32386</td>\n",
       "                        <td id=\"T_baa6b_row0_col1\" class=\"data row0 col1\" >180</td>\n",
       "                        <td id=\"T_baa6b_row0_col2\" class=\"data row0 col2\" >394</td>\n",
       "                        <td id=\"T_baa6b_row0_col3\" class=\"data row0 col3\" >34462496</td>\n",
       "                        <td id=\"T_baa6b_row0_col4\" class=\"data row0 col4\" >5870</td>\n",
       "                        <td id=\"T_baa6b_row0_col5\" class=\"data row0 col5\" >16208</td>\n",
       "                        <td id=\"T_baa6b_row0_col6\" class=\"data row0 col6\" >797</td>\n",
       "                        <td id=\"T_baa6b_row0_col7\" class=\"data row0 col7\" >28</td>\n",
       "                        <td id=\"T_baa6b_row0_col8\" class=\"data row0 col8\" >33</td>\n",
       "            </tr>\n",
       "            <tr>\n",
       "                        <th id=\"T_baa6b_level0_row1\" class=\"row_heading level0 row1\" >ultra</th>\n",
       "                        <td id=\"T_baa6b_row1_col0\" class=\"data row1 col0\" >89943</td>\n",
       "                        <td id=\"T_baa6b_row1_col1\" class=\"data row1 col1\" >300</td>\n",
       "                        <td id=\"T_baa6b_row1_col2\" class=\"data row1 col2\" >497</td>\n",
       "                        <td id=\"T_baa6b_row1_col3\" class=\"data row1 col3\" >101751014</td>\n",
       "                        <td id=\"T_baa6b_row1_col4\" class=\"data row1 col4\" >10087</td>\n",
       "                        <td id=\"T_baa6b_row1_col5\" class=\"data row1 col5\" >19469</td>\n",
       "                        <td id=\"T_baa6b_row1_col6\" class=\"data row1 col6\" >2285</td>\n",
       "                        <td id=\"T_baa6b_row1_col7\" class=\"data row1 col7\" >48</td>\n",
       "                        <td id=\"T_baa6b_row1_col8\" class=\"data row1 col8\" >49</td>\n",
       "            </tr>\n",
       "    </tbody></table>"
      ],
      "text/plain": [
       "<pandas.io.formats.style.Styler at 0x7fe5c599c2b0>"
      ]
     },
     "execution_count": 13,
     "metadata": {},
     "output_type": "execute_result"
    }
   ],
   "source": [
    "#Теперь найдем медиану, дисперсию и стандартное отклонение:\n",
    "grouped_data.groupby('tariff')[['duration','mb_used','messages']].agg({'mean','var','std'}).style.format('{:.0f}')"
   ]
  },
  {
   "cell_type": "markdown",
   "metadata": {},
   "source": [
    "Если стандартное отклонение по 3 параметрам различается между тарифами практически в 2 раза,то так же как и средний квадрат отклонений от среднего значения var (дисперсия) в тарифе Ultra превышает практически троекратно. Среднее (mean) звонков, интернет трафика и сообщений, обоих тарифов более сбалансированно.\n",
    "\n",
    " \n",
    "\n"
   ]
  },
  {
   "cell_type": "code",
   "execution_count": 14,
   "metadata": {},
   "outputs": [
    {
     "data": {
      "image/png": "[encoded data removed]",
      "text/plain": [
       "<Figure size 1008x360 with 1 Axes>"
      ]
     },
     "metadata": {},
     "output_type": "display_data"
    },
    {
     "data": {
      "image/png": "[encoded data removed]",
      "text/plain": [
       "<Figure size 1008x360 with 1 Axes>"
      ]
     },
     "metadata": {},
     "output_type": "display_data"
    },
    {
     "data": {
      "image/png": "[encoded data removed]",
      "text/plain": [
       "<Figure size 1008x360 with 1 Axes>"
      ]
     },
     "metadata": {},
     "output_type": "display_data"
    },
    {
     "data": {
      "image/png": "[encoded data removed]",
      "text/plain": [
       "<Figure size 1008x360 with 1 Axes>"
      ]
     },
     "metadata": {},
     "output_type": "display_data"
    }
   ],
   "source": [
    "#Построим диаграммы размаха для каждого тарифа, а так же диаграмму распределения выручки.\n",
    "for param in ['duration', 'messages', 'mb_used', 'revenue']:\n",
    "    b = 50\n",
    "    plt.figure(figsize=(14, 5))\n",
    "    \n",
    "    plt.hist(grouped_data.loc[grouped_data['tariff'] == \"smart\", param], label='smart / '+param, color='b', alpha=0.65, bins = b)\n",
    "    plt.hist(grouped_data.loc[grouped_data['tariff'] == \"ultra\", param], label='ultra / '+param, color='r', alpha=0.35, bins = b)\n",
    "    \n",
    "    plt.ylabel('ЧАСТОТА')\n",
    "    plt.xlabel(param)\n",
    "    plt.grid()\n",
    "    plt.title(f'Распределение {param} в месяцам для обоих тарифов')\n",
    "    plt.legend()\n",
    "    plt.show()"
   ]
  },
  {
   "cell_type": "markdown",
   "metadata": {},
   "source": [
    "ВЫВОД: по гистограммам наглядно видно, что дисперсия по тарифу \"Смарт\" меньше, чем у пользователей с тарифом \"Ультра\" по всем показателям: по длительности разговора, числу сообщений и использованному интернет-трафику. Также на гистограммах видно, что мода у \"Смарта\" явно выражена.\n",
    "\n",
    "Другими словами, поведение пользователей тарифа \"Ультра\" более разнообразное с точки зрения потребления телекоммуникационных услуг. Пользователи дорогого тарифа более свободны в выборе того, как именно использовать объемы тарифного пакета.\n",
    "\n",
    "В тарифе smart подавляющее большинство абонентов укладываются в лимит 500 минут разговора ( тарифе ultra не сильно ушли от этого значения - среднемесячное не больше 600 минут (не говоря уже об излишнем лимите в 1500). Также можно наблюдать, что расход минут постепенно возрастает в течение года. Исключение месяц февраль у тарифа ultra довольно сильное падение (хоть февраль самый короткий месяц, но снижение не пропорцианально - почти в 2 раза).\n",
    "\n",
    "смс - мало популярная услуга (много абонентов которых вообще не пишут СМС или почти не пишут). Абоненты тарифа smart вполне укладываются в лимит 50 СМС (а среднее 28 СМС в месяц за год), даже абоненты тарифа ultra редко превышают порог в 50 СМС (за исключением 200 smart и 350 ultra возможно какие-то магазины). В тарифе smart в первой половине года активность постепенно возрастает, а во второй уменьшается.В ultra так же идет угасание ко второй половине года - в более меньшем объеме, но более продолжительно.\n",
    "\n",
    "С интернет-трафиком другая ситуация. Абоненты smart любят посидеть в интернете и частенько привышают лимитв 15000 МБ, также надо отметить, что опять начало года (январь и февраль) характеризовано низкой активностью в интернете. В тарифе ultra онизкие значения в начале года, а в остально часть года идет  постепенный рост и держится стабильное состояние.\n",
    "\n",
    "По выручке можно сказать: что выручка абонентов ultra в подавляющем большинстве случаев ограничивается абонплатой (1950р), а абоненты smart напротив очень частенько платят сверх абонплаты ( 1197.6 средн и станд. 767.6, при  абонплате =  550р  - и все это за счет интернет трафика) "
   ]
  },
  {
   "cell_type": "markdown",
   "metadata": {},
   "source": [
    "### Проверка гипотез"
   ]
  },
  {
   "cell_type": "markdown",
   "metadata": {},
   "source": [
    "**Гипотеза №1:** средняя выручка пользователей тарифов «Ультра» и «Смарт» различаются.\n",
    "\n"
   ]
  },
  {
   "cell_type": "markdown",
   "metadata": {},
   "source": [
    "H0  — средняя выручка пользователей тарифа «Ультра» равна средней выручке пользователей тарифа «Смарт».\n",
    "\n",
    "H1  — средняя выручка пользователей тарифов «Ультра» и «Смарт» различаются.\n",
    "\n",
    "α=1%"
   ]
  },
  {
   "cell_type": "code",
   "execution_count": 15,
   "metadata": {},
   "outputs": [
    {
     "data": {
      "image/png": "[encoded data removed]",
      "text/plain": [
       "<Figure size 360x360 with 1 Axes>"
      ]
     },
     "metadata": {},
     "output_type": "display_data"
    },
    {
     "data": {
      "image/png": "[encoded data removed]",
      "text/plain": [
       "<Figure size 360x360 with 1 Axes>"
      ]
     },
     "metadata": {},
     "output_type": "display_data"
    },
    {
     "data": {
      "image/png": "[encoded data removed]",
      "text/plain": [
       "<Figure size 360x360 with 1 Axes>"
      ]
     },
     "metadata": {},
     "output_type": "display_data"
    }
   ],
   "source": [
    "# для анализа распределения используем boxplot, так как выборка не слишком велика \n",
    "for column in ['duration', 'mb_used', 'messages']:    \n",
    "    sns.catplot(x=\"tariff\", y=column, kind=\"box\", data=medians, orient='v')"
   ]
  },
  {
   "cell_type": "markdown",
   "metadata": {},
   "source": [
    "Минуты разговора, число сообщений и объем потраченного интернет-трафика по тарифу «Ультра» имеет большую дисперсию по сравнению с тарифом «Смарт», и медианы по вышеперечисленным признакам также смещены в большую сторону. Кроме того, выбросов в рамках более дешевого тарифа существенно больше.\n",
    "Изходя из вышеописанного для проверки 1 и 2 гипотезы будем использовать 2-х выборочный t- test (так как дисперсии выборок явно не равны). Заявим alpha = .01"
   ]
  },
  {
   "cell_type": "code",
   "execution_count": 16,
   "metadata": {},
   "outputs": [
    {
     "name": "stdout",
     "output_type": "stream",
     "text": [
      "p-значение: 0.0\n",
      "Отвергаем нулевую гипотезу\n"
     ]
    }
   ],
   "source": [
    "#используем 2-х выборочный t- test \n",
    "from scipy import stats\n",
    "rng = np.random.default_rng()\n",
    "ultra = grouped_data.query('tariff == \"ultra\"')['revenue']\n",
    "smart = grouped_data.query('tariff == \"smart\"')['revenue']\n",
    "\n",
    "alpha = .01\n",
    "\n",
    "results = stats.ttest_ind(\n",
    "    ultra, \n",
    "    smart, \n",
    "    equal_var=False)\n",
    "\n",
    "print('p-значение:', results.pvalue)\n",
    "\n",
    "if (results.pvalue < alpha):\n",
    "    print(\"Отвергаем нулевую гипотезу\")\n",
    "else:\n",
    "    print(\"Не получилось отвергнуть нулевую гипотезу\")"
   ]
  },
  {
   "cell_type": "code",
   "execution_count": 17,
   "metadata": {},
   "outputs": [
    {
     "data": {
      "text/html": [
       "<div>\n",
       "<style scoped>\n",
       "    .dataframe tbody tr th:only-of-type {\n",
       "        vertical-align: middle;\n",
       "    }\n",
       "\n",
       "    .dataframe tbody tr th {\n",
       "        vertical-align: top;\n",
       "    }\n",
       "\n",
       "    .dataframe thead th {\n",
       "        text-align: right;\n",
       "    }\n",
       "</style>\n",
       "<table border=\"1\" class=\"dataframe\">\n",
       "  <thead>\n",
       "    <tr style=\"text-align: right;\">\n",
       "      <th></th>\n",
       "      <th>revenue</th>\n",
       "    </tr>\n",
       "    <tr>\n",
       "      <th>tariff</th>\n",
       "      <th></th>\n",
       "    </tr>\n",
       "  </thead>\n",
       "  <tbody>\n",
       "    <tr>\n",
       "      <th>smart</th>\n",
       "      <td>925.582031</td>\n",
       "    </tr>\n",
       "    <tr>\n",
       "      <th>ultra</th>\n",
       "      <td>1950.000000</td>\n",
       "    </tr>\n",
       "  </tbody>\n",
       "</table>\n",
       "</div>"
      ],
      "text/plain": [
       "            revenue\n",
       "tariff             \n",
       "smart    925.582031\n",
       "ultra   1950.000000"
      ]
     },
     "execution_count": 17,
     "metadata": {},
     "output_type": "execute_result"
    }
   ],
   "source": [
    "# выведим итоговую выручку по обоим тарифам \n",
    "grouped_data.pivot_table(index='tariff', values='revenue', aggfunc='median')"
   ]
  },
  {
   "cell_type": "markdown",
   "metadata": {},
   "source": [
    "ВЫВОД: \n",
    " Можно подтвердить, что мы отклоняем нулевую гипотезу - средняя выручка пользователей тарифа \"Ультра\" отличается статистически значимо от средней выручки пользователей тарифа \"Смарт\", т.е. есть статистически значимая разница между ними .(Если у пользователя подключен тариф \"Смарт\" с абонентской платой в 550 рублей, то он скорее всего по итогам месяца заплатит гораздо больше из-за нехватки услуг в рамках тарифного пакета)."
   ]
  },
  {
   "cell_type": "markdown",
   "metadata": {},
   "source": [
    "**Гипотеза №2:** средняя выручка пользователей из Москвы отличается от выручки пользователей из других регионов. (используем аналогию 1 гипотезы)"
   ]
  },
  {
   "cell_type": "markdown",
   "metadata": {},
   "source": [
    "\n",
    "H0  — средняя выручка пользователей из Москвы равна средней выручке пользователей из других регионов.\n",
    "\n",
    "H1  — средняя выручка пользователей из Москвы отличается от средней выручке пользователей из других регионов.\n",
    "\n",
    "α=1%"
   ]
  },
  {
   "cell_type": "code",
   "execution_count": 18,
   "metadata": {},
   "outputs": [
    {
     "name": "stdout",
     "output_type": "stream",
     "text": [
      "p-значение: 0.39315549330104205\n",
      "Не получилось отвергнуть нулевую гипотезу\n"
     ]
    }
   ],
   "source": [
    "# добавим наименование населенного пункта для каждого пользователя\n",
    "#используем 2-х выборочный t- test\n",
    "for user in grouped_data.index:\n",
    "    grouped_data.loc[user, 'city'] = users.loc[user[0]-1000, 'city']\n",
    "\n",
    "moscow = grouped_data.query('city == \"Москва\"')['revenue']\n",
    "regions = grouped_data.query('city != \"Москва\"')['revenue']\n",
    "\n",
    "alpha = .01\n",
    "\n",
    "results = st.ttest_ind(\n",
    "    moscow, \n",
    "    regions, \n",
    "    equal_var=False)\n",
    "\n",
    "print('p-значение:', results.pvalue)\n",
    "\n",
    "if (results.pvalue < alpha):\n",
    "    print(\"Отвергаем нулевую гипотезу\")\n",
    "else:\n",
    "    print(\"Не получилось отвергнуть нулевую гипотезу\")"
   ]
  },
  {
   "cell_type": "code",
   "execution_count": 19,
   "metadata": {},
   "outputs": [
    {
     "data": {
      "text/html": [
       "<div>\n",
       "<style scoped>\n",
       "    .dataframe tbody tr th:only-of-type {\n",
       "        vertical-align: middle;\n",
       "    }\n",
       "\n",
       "    .dataframe tbody tr th {\n",
       "        vertical-align: top;\n",
       "    }\n",
       "\n",
       "    .dataframe thead th {\n",
       "        text-align: right;\n",
       "    }\n",
       "</style>\n",
       "<table border=\"1\" class=\"dataframe\">\n",
       "  <thead>\n",
       "    <tr style=\"text-align: right;\">\n",
       "      <th></th>\n",
       "      <th>revenue</th>\n",
       "    </tr>\n",
       "    <tr>\n",
       "      <th>region</th>\n",
       "      <th></th>\n",
       "    </tr>\n",
       "  </thead>\n",
       "  <tbody>\n",
       "    <tr>\n",
       "      <th>Другой регион</th>\n",
       "      <td>1471.230469</td>\n",
       "    </tr>\n",
       "    <tr>\n",
       "      <th>Москва</th>\n",
       "      <td>1638.054688</td>\n",
       "    </tr>\n",
       "  </tbody>\n",
       "</table>\n",
       "</div>"
      ],
      "text/plain": [
       "                   revenue\n",
       "region                    \n",
       "Другой регион  1471.230469\n",
       "Москва         1638.054688"
      ]
     },
     "execution_count": 19,
     "metadata": {},
     "output_type": "execute_result"
    }
   ],
   "source": [
    "# добавим наименование населенного пункта для каждого пользователя\n",
    "def det_region(city):\n",
    "    if city == 'Москва': return 'Москва'\n",
    "    else: return 'Другой регион'\n",
    "# выведим итоговую выручку по обоим тарифам     \n",
    "grouped_data['region'] = grouped_data['city'].apply(det_region)\n",
    "grouped_data.pivot_table(index='region', values='revenue', aggfunc='median')"
   ]
  },
  {
   "cell_type": "markdown",
   "metadata": {},
   "source": [
    "ВЫВОД: \n",
    "Данный статистический тест не дал возможности опровергунть исходную гипотезу о том, что доходы от пользователей из Москвы и из других регионов равны. Действительно, доходы в Московском регионе практически не отличаются от других населенных пунктов. нулевая гипотеза принимается и что средняя выручка не отличается статистически значимо, т.е. нет статистически значимой разницы между двумя выборками)\n",
    "\n"
   ]
  },
  {
   "cell_type": "markdown",
   "metadata": {},
   "source": [
    "### Общий вывод"
   ]
  },
  {
   "cell_type": "markdown",
   "metadata": {},
   "source": [
    "**Общий вывод\n",
    "В ходе исследования были проверены 2 гипотезы:\n",
    "\n",
    "* Гипотеза №1: средняя выручка пользователей тарифов «Ультра» и «Смарт» различается: ГИПОТЕЗА ПОДТВЕРДИЛАСЬ\n",
    "* Гипотеза №2: средняя выручка пользователей из Москвы отличается от выручки пользователей из других регионов: ГИПОТЕЗА НЕ ПОДТВЕРДИЛАСЬ.\n",
    "\n",
    "Отвечая на вопрос ииследования, можно рекомендовать оператору продвигать тариф Ультра. \n",
    "\n",
    "Так как наш тест подвердил, что  средняя выручка пользователей тарифов Ультра и Смарт различаются (а именно средняя выручка тарифа Ультра в 2 раза превышает выручку Смарт, где определяющим условием так же является то, абонентам второго не хватает услуг в рамках тарифного пакета).\n"
   ]
  }
 ],
 "metadata": {
  "ExecuteTimeLog": [
   {
    "duration": 1510,
    "start_time": "2022-03-24T13:48:28.444Z"
   },
   {
    "duration": 19,
    "start_time": "2022-03-24T13:50:18.847Z"
   },
   {
    "duration": 19,
    "start_time": "2022-03-24T13:58:41.654Z"
   },
   {
    "duration": 534,
    "start_time": "2022-03-24T14:00:57.223Z"
   },
   {
    "duration": 685,
    "start_time": "2022-03-24T14:02:05.814Z"
   },
   {
    "duration": 2,
    "start_time": "2022-03-24T15:04:33.099Z"
   },
   {
    "duration": 480,
    "start_time": "2022-03-24T15:37:06.396Z"
   },
   {
    "duration": 472,
    "start_time": "2022-03-24T15:38:10.097Z"
   },
   {
    "duration": 790,
    "start_time": "2022-03-24T15:38:31.830Z"
   },
   {
    "duration": 761,
    "start_time": "2022-03-24T15:38:57.661Z"
   },
   {
    "duration": 2581,
    "start_time": "2022-03-24T23:41:19.539Z"
   },
   {
    "duration": 134,
    "start_time": "2022-03-24T23:42:04.465Z"
   },
   {
    "duration": 78,
    "start_time": "2022-03-24T23:47:32.227Z"
   },
   {
    "duration": 169,
    "start_time": "2022-03-24T23:47:48.997Z"
   },
   {
    "duration": 147,
    "start_time": "2022-03-24T23:48:40.836Z"
   },
   {
    "duration": 16,
    "start_time": "2022-03-24T23:51:40.098Z"
   },
   {
    "duration": 2327,
    "start_time": "2022-03-25T21:08:07.871Z"
   },
   {
    "duration": 98,
    "start_time": "2022-03-25T21:12:39.979Z"
   },
   {
    "duration": 154,
    "start_time": "2022-03-25T21:16:34.554Z"
   },
   {
    "duration": 22,
    "start_time": "2022-03-25T21:42:17.681Z"
   },
   {
    "duration": 88,
    "start_time": "2022-03-25T21:45:22.654Z"
   },
   {
    "duration": 85,
    "start_time": "2022-03-25T21:45:46.718Z"
   },
   {
    "duration": 89,
    "start_time": "2022-03-25T21:52:39.445Z"
   },
   {
    "duration": 90,
    "start_time": "2022-03-25T21:52:55.638Z"
   },
   {
    "duration": 21,
    "start_time": "2022-03-25T21:53:27.231Z"
   },
   {
    "duration": 2058,
    "start_time": "2022-03-25T21:55:13.544Z"
   },
   {
    "duration": 167,
    "start_time": "2022-03-25T21:55:34.268Z"
   },
   {
    "duration": 140,
    "start_time": "2022-03-25T21:59:16.135Z"
   },
   {
    "duration": 2230,
    "start_time": "2022-03-25T22:13:29.256Z"
   },
   {
    "duration": 134,
    "start_time": "2022-03-25T22:21:45.159Z"
   },
   {
    "duration": 203,
    "start_time": "2022-03-25T22:22:05.207Z"
   },
   {
    "duration": 1421,
    "start_time": "2022-03-25T22:22:51.082Z"
   },
   {
    "duration": 28,
    "start_time": "2022-03-25T22:24:46.154Z"
   },
   {
    "duration": 1439,
    "start_time": "2022-03-25T22:36:54.979Z"
   },
   {
    "duration": 1322,
    "start_time": "2022-03-25T22:39:13.630Z"
   },
   {
    "duration": 2080,
    "start_time": "2022-03-25T22:40:06.017Z"
   },
   {
    "duration": 168,
    "start_time": "2022-03-25T22:40:22.978Z"
   },
   {
    "duration": 168,
    "start_time": "2022-03-25T22:41:37.781Z"
   },
   {
    "duration": 108,
    "start_time": "2022-03-25T22:42:32.453Z"
   },
   {
    "duration": 1475,
    "start_time": "2022-03-25T22:43:15.825Z"
   },
   {
    "duration": 2091,
    "start_time": "2022-03-25T22:50:13.357Z"
   },
   {
    "duration": 135,
    "start_time": "2022-03-25T22:54:52.809Z"
   },
   {
    "duration": 130,
    "start_time": "2022-03-25T22:55:04.472Z"
   },
   {
    "duration": 100,
    "start_time": "2022-03-25T22:55:13.905Z"
   },
   {
    "duration": 1518,
    "start_time": "2022-03-25T23:07:02.363Z"
   },
   {
    "duration": 37,
    "start_time": "2022-03-25T23:11:18.203Z"
   },
   {
    "duration": 2063,
    "start_time": "2022-03-25T23:12:00.191Z"
   },
   {
    "duration": 143,
    "start_time": "2022-03-25T23:12:30.624Z"
   },
   {
    "duration": 94,
    "start_time": "2022-03-25T23:12:32.103Z"
   },
   {
    "duration": 29,
    "start_time": "2022-03-25T23:12:50.729Z"
   },
   {
    "duration": 2298,
    "start_time": "2022-03-26T15:34:36.883Z"
   },
   {
    "duration": 2046,
    "start_time": "2022-03-26T15:52:07.668Z"
   },
   {
    "duration": 109,
    "start_time": "2022-03-26T15:55:05.058Z"
   },
   {
    "duration": 92,
    "start_time": "2022-03-26T15:55:39.103Z"
   },
   {
    "duration": 72,
    "start_time": "2022-03-26T15:57:35.671Z"
   },
   {
    "duration": 1367,
    "start_time": "2022-03-26T16:16:07.833Z"
   },
   {
    "duration": 59,
    "start_time": "2022-03-26T16:17:03.774Z"
   },
   {
    "duration": 79,
    "start_time": "2022-03-26T16:17:17.680Z"
   },
   {
    "duration": 74,
    "start_time": "2022-03-26T16:17:30.742Z"
   },
   {
    "duration": 1000,
    "start_time": "2022-03-26T16:37:10.217Z"
   },
   {
    "duration": 1010,
    "start_time": "2022-03-26T16:38:15.244Z"
   },
   {
    "duration": 1135,
    "start_time": "2022-03-26T16:39:08.265Z"
   },
   {
    "duration": 1718,
    "start_time": "2022-03-26T16:39:32.412Z"
   },
   {
    "duration": 193,
    "start_time": "2022-03-26T16:39:47.061Z"
   },
   {
    "duration": 117,
    "start_time": "2022-03-26T16:43:08.852Z"
   },
   {
    "duration": 321,
    "start_time": "2022-03-26T18:25:35.536Z"
   },
   {
    "duration": 2180,
    "start_time": "2022-03-26T18:32:40.393Z"
   },
   {
    "duration": 1383,
    "start_time": "2022-03-26T18:42:35.090Z"
   },
   {
    "duration": 118,
    "start_time": "2022-03-26T18:56:05.577Z"
   },
   {
    "duration": 11,
    "start_time": "2022-03-26T19:09:37.695Z"
   },
   {
    "duration": 9,
    "start_time": "2022-03-26T19:09:53.624Z"
   },
   {
    "duration": 29,
    "start_time": "2022-03-26T19:10:55.900Z"
   },
   {
    "duration": 33,
    "start_time": "2022-03-26T19:14:05.047Z"
   },
   {
    "duration": 219,
    "start_time": "2022-03-26T19:20:26.838Z"
   },
   {
    "duration": 207,
    "start_time": "2022-03-26T19:21:24.452Z"
   },
   {
    "duration": 234,
    "start_time": "2022-03-26T19:21:57.972Z"
   },
   {
    "duration": 217,
    "start_time": "2022-03-26T19:22:24.872Z"
   },
   {
    "duration": 11,
    "start_time": "2022-03-26T19:28:22.422Z"
   },
   {
    "duration": 14,
    "start_time": "2022-03-26T19:29:31.180Z"
   },
   {
    "duration": 365,
    "start_time": "2022-03-26T19:30:12.554Z"
   },
   {
    "duration": 1190,
    "start_time": "2022-03-26T19:31:57.907Z"
   },
   {
    "duration": 15,
    "start_time": "2022-03-26T19:32:49.692Z"
   },
   {
    "duration": 289,
    "start_time": "2022-03-26T19:33:24.613Z"
   },
   {
    "duration": 1919,
    "start_time": "2022-03-27T13:47:13.867Z"
   },
   {
    "duration": 174,
    "start_time": "2022-03-27T13:47:18.422Z"
   },
   {
    "duration": 98,
    "start_time": "2022-03-27T13:47:23.530Z"
   },
   {
    "duration": 2793,
    "start_time": "2022-03-27T13:48:05.161Z"
   },
   {
    "duration": 186,
    "start_time": "2022-03-27T13:48:08.938Z"
   },
   {
    "duration": 321,
    "start_time": "2022-03-27T13:48:13.306Z"
   },
   {
    "duration": 103,
    "start_time": "2022-03-27T13:48:15.432Z"
   },
   {
    "duration": 1172,
    "start_time": "2022-03-27T13:48:59.543Z"
   },
   {
    "duration": 115,
    "start_time": "2022-03-27T13:49:12.859Z"
   },
   {
    "duration": 27,
    "start_time": "2022-03-27T13:49:14.491Z"
   },
   {
    "duration": 31,
    "start_time": "2022-03-27T13:49:17.984Z"
   },
   {
    "duration": 214,
    "start_time": "2022-03-27T13:49:20.151Z"
   },
   {
    "duration": 224,
    "start_time": "2022-03-27T13:49:21.977Z"
   },
   {
    "duration": 192,
    "start_time": "2022-03-27T13:49:25.020Z"
   },
   {
    "duration": 925,
    "start_time": "2022-03-27T13:49:40.613Z"
   },
   {
    "duration": 18,
    "start_time": "2022-03-27T14:09:17.221Z"
   },
   {
    "duration": 16,
    "start_time": "2022-03-27T14:09:35.274Z"
   },
   {
    "duration": 15,
    "start_time": "2022-03-27T14:10:28.816Z"
   },
   {
    "duration": 2410,
    "start_time": "2022-03-27T14:30:15.934Z"
   },
   {
    "duration": 243,
    "start_time": "2022-03-27T14:30:19.681Z"
   },
   {
    "duration": 430,
    "start_time": "2022-03-27T14:30:24.035Z"
   },
   {
    "duration": 2637,
    "start_time": "2022-03-27T14:30:25.195Z"
   },
   {
    "duration": 244,
    "start_time": "2022-03-27T14:30:28.800Z"
   },
   {
    "duration": 40,
    "start_time": "2022-03-27T14:30:29.757Z"
   },
   {
    "duration": 44,
    "start_time": "2022-03-27T14:30:30.721Z"
   },
   {
    "duration": 311,
    "start_time": "2022-03-27T14:30:31.641Z"
   },
   {
    "duration": 342,
    "start_time": "2022-03-27T14:30:32.831Z"
   },
   {
    "duration": 301,
    "start_time": "2022-03-27T14:30:33.880Z"
   },
   {
    "duration": 1228,
    "start_time": "2022-03-27T14:30:42.931Z"
   },
   {
    "duration": 16,
    "start_time": "2022-03-27T14:31:36.335Z"
   },
   {
    "duration": 1853,
    "start_time": "2022-03-27T14:40:34.998Z"
   },
   {
    "duration": 172,
    "start_time": "2022-03-27T14:40:40.122Z"
   },
   {
    "duration": 328,
    "start_time": "2022-03-27T14:40:44.561Z"
   },
   {
    "duration": 1237,
    "start_time": "2022-03-27T14:40:44.951Z"
   },
   {
    "duration": 106,
    "start_time": "2022-03-27T14:40:47.336Z"
   },
   {
    "duration": 28,
    "start_time": "2022-03-27T14:40:47.881Z"
   },
   {
    "duration": 29,
    "start_time": "2022-03-27T14:40:48.416Z"
   },
   {
    "duration": 196,
    "start_time": "2022-03-27T14:40:49.158Z"
   },
   {
    "duration": 217,
    "start_time": "2022-03-27T14:40:50.491Z"
   },
   {
    "duration": 191,
    "start_time": "2022-03-27T14:40:51.549Z"
   },
   {
    "duration": 1040,
    "start_time": "2022-03-27T14:40:57.114Z"
   },
   {
    "duration": 101,
    "start_time": "2022-03-27T14:41:08.276Z"
   },
   {
    "duration": 10,
    "start_time": "2022-03-27T14:41:24.031Z"
   },
   {
    "duration": 17,
    "start_time": "2022-03-27T14:41:46.217Z"
   },
   {
    "duration": 393,
    "start_time": "2022-03-27T14:41:50.122Z"
   },
   {
    "duration": 1145,
    "start_time": "2022-03-27T14:44:14.450Z"
   },
   {
    "duration": 16,
    "start_time": "2022-03-27T15:00:56.813Z"
   },
   {
    "duration": 1043,
    "start_time": "2022-03-27T15:01:34.900Z"
   },
   {
    "duration": 968,
    "start_time": "2022-03-27T15:02:48.304Z"
   },
   {
    "duration": 997,
    "start_time": "2022-03-27T15:03:06.027Z"
   },
   {
    "duration": 14,
    "start_time": "2022-03-27T15:03:10.100Z"
   },
   {
    "duration": 1746,
    "start_time": "2022-03-27T16:02:30.887Z"
   },
   {
    "duration": 528,
    "start_time": "2022-03-27T16:02:41.852Z"
   },
   {
    "duration": 3371,
    "start_time": "2022-03-28T13:08:07.564Z"
   },
   {
    "duration": 583,
    "start_time": "2022-03-28T13:09:43.411Z"
   },
   {
    "duration": 242,
    "start_time": "2022-03-28T13:09:56.890Z"
   },
   {
    "duration": 471,
    "start_time": "2022-03-28T13:11:08.019Z"
   },
   {
    "duration": 394,
    "start_time": "2022-03-28T13:14:59.014Z"
   },
   {
    "duration": 2299,
    "start_time": "2022-03-28T13:15:10.409Z"
   },
   {
    "duration": 2367,
    "start_time": "2022-03-28T13:18:46.251Z"
   },
   {
    "duration": 3102,
    "start_time": "2022-03-28T13:19:02.884Z"
   },
   {
    "duration": 3835,
    "start_time": "2022-03-28T13:33:46.331Z"
   },
   {
    "duration": 2335,
    "start_time": "2022-03-28T13:34:42.180Z"
   },
   {
    "duration": 2421,
    "start_time": "2022-03-28T13:36:43.443Z"
   },
   {
    "duration": 3993,
    "start_time": "2022-03-28T13:37:54.190Z"
   },
   {
    "duration": 2414,
    "start_time": "2022-03-28T13:38:16.040Z"
   },
   {
    "duration": 2300,
    "start_time": "2022-03-28T13:39:15.896Z"
   },
   {
    "duration": 2093,
    "start_time": "2022-03-28T14:24:14.317Z"
   },
   {
    "duration": 146,
    "start_time": "2022-03-28T14:26:47.050Z"
   },
   {
    "duration": 81,
    "start_time": "2022-03-28T14:27:32.361Z"
   },
   {
    "duration": 78,
    "start_time": "2022-03-28T14:28:12.929Z"
   },
   {
    "duration": 1875,
    "start_time": "2022-03-28T15:32:38.642Z"
   },
   {
    "duration": 172,
    "start_time": "2022-03-28T15:32:54.657Z"
   },
   {
    "duration": 198,
    "start_time": "2022-03-28T15:41:33.442Z"
   },
   {
    "duration": 168,
    "start_time": "2022-03-28T15:46:28.445Z"
   },
   {
    "duration": 1718,
    "start_time": "2022-03-28T16:26:29.504Z"
   },
   {
    "duration": 201,
    "start_time": "2022-03-28T16:26:31.784Z"
   },
   {
    "duration": 340,
    "start_time": "2022-03-28T16:26:34.744Z"
   },
   {
    "duration": 1319,
    "start_time": "2022-03-28T16:26:35.747Z"
   },
   {
    "duration": 129,
    "start_time": "2022-03-28T16:26:38.088Z"
   },
   {
    "duration": 31,
    "start_time": "2022-03-28T16:26:39.458Z"
   },
   {
    "duration": 26,
    "start_time": "2022-03-28T16:26:40.431Z"
   },
   {
    "duration": 188,
    "start_time": "2022-03-28T16:26:42.061Z"
   },
   {
    "duration": 307,
    "start_time": "2022-03-28T16:26:42.990Z"
   },
   {
    "duration": 274,
    "start_time": "2022-03-28T16:26:44.739Z"
   },
   {
    "duration": 889,
    "start_time": "2022-03-28T16:29:38.743Z"
   },
   {
    "duration": 11,
    "start_time": "2022-03-28T16:29:41.852Z"
   },
   {
    "duration": 18,
    "start_time": "2022-03-28T16:29:43.260Z"
   },
   {
    "duration": 1091,
    "start_time": "2022-03-28T16:31:07.856Z"
   },
   {
    "duration": 14,
    "start_time": "2022-03-28T16:31:09.176Z"
   },
   {
    "duration": 1911,
    "start_time": "2022-04-08T08:17:35.216Z"
   },
   {
    "duration": 280,
    "start_time": "2022-04-08T08:23:59.882Z"
   },
   {
    "duration": 556,
    "start_time": "2022-04-08T08:24:05.125Z"
   },
   {
    "duration": 245,
    "start_time": "2022-04-08T08:24:05.684Z"
   },
   {
    "duration": 407,
    "start_time": "2022-04-08T08:24:07.293Z"
   },
   {
    "duration": 23,
    "start_time": "2022-04-08T08:24:23.011Z"
   },
   {
    "duration": 21,
    "start_time": "2022-04-08T08:24:43.819Z"
   },
   {
    "duration": 2535,
    "start_time": "2022-04-08T08:26:55.343Z"
   },
   {
    "duration": 30,
    "start_time": "2022-04-08T08:27:08.735Z"
   },
   {
    "duration": 2336,
    "start_time": "2022-04-08T08:28:15.359Z"
   },
   {
    "duration": 367,
    "start_time": "2022-04-08T08:28:20.844Z"
   },
   {
    "duration": 2509,
    "start_time": "2022-04-08T08:28:24.791Z"
   },
   {
    "duration": 10,
    "start_time": "2022-04-08T08:28:32.939Z"
   },
   {
    "duration": 8,
    "start_time": "2022-04-08T08:28:40.680Z"
   },
   {
    "duration": 15,
    "start_time": "2022-04-08T08:35:41.205Z"
   },
   {
    "duration": 1985,
    "start_time": "2022-04-08T08:35:51.225Z"
   },
   {
    "duration": 244,
    "start_time": "2022-04-08T08:35:53.213Z"
   },
   {
    "duration": 426,
    "start_time": "2022-04-08T08:35:53.459Z"
   },
   {
    "duration": 8,
    "start_time": "2022-04-08T08:35:53.888Z"
   },
   {
    "duration": 2304,
    "start_time": "2022-04-08T08:35:53.898Z"
   },
   {
    "duration": 203,
    "start_time": "2022-04-08T08:36:58.408Z"
   },
   {
    "duration": 43,
    "start_time": "2022-04-08T08:37:04.631Z"
   },
   {
    "duration": 18,
    "start_time": "2022-04-08T08:37:40.207Z"
   },
   {
    "duration": 44,
    "start_time": "2022-04-08T08:41:19.977Z"
   },
   {
    "duration": 44,
    "start_time": "2022-04-08T08:41:23.146Z"
   },
   {
    "duration": 321,
    "start_time": "2022-04-08T08:41:24.493Z"
   },
   {
    "duration": 1272,
    "start_time": "2022-04-08T08:45:04.439Z"
   },
   {
    "duration": 16,
    "start_time": "2022-04-08T08:45:09.995Z"
   },
   {
    "duration": 2432,
    "start_time": "2022-04-08T18:16:23.077Z"
   },
   {
    "duration": 120,
    "start_time": "2022-04-08T18:17:02.009Z"
   },
   {
    "duration": 15,
    "start_time": "2022-04-08T18:19:20.673Z"
   },
   {
    "duration": 170,
    "start_time": "2022-04-08T18:21:16.790Z"
   },
   {
    "duration": 2548,
    "start_time": "2022-04-08T18:25:15.089Z"
   },
   {
    "duration": 127,
    "start_time": "2022-04-08T18:25:23.713Z"
   },
   {
    "duration": 12,
    "start_time": "2022-04-08T18:25:25.944Z"
   },
   {
    "duration": 665,
    "start_time": "2022-04-08T18:25:27.711Z"
   },
   {
    "duration": 616,
    "start_time": "2022-04-08T18:30:11.239Z"
   },
   {
    "duration": 2382,
    "start_time": "2022-04-09T07:31:40.607Z"
   },
   {
    "duration": 223,
    "start_time": "2022-04-09T07:31:47.275Z"
   },
   {
    "duration": 19,
    "start_time": "2022-04-09T07:31:49.088Z"
   },
   {
    "duration": 957,
    "start_time": "2022-04-09T07:31:51.899Z"
   },
   {
    "duration": 807,
    "start_time": "2022-04-09T07:32:02.509Z"
   },
   {
    "duration": 33,
    "start_time": "2022-04-09T07:39:49.002Z"
   },
   {
    "duration": 17,
    "start_time": "2022-04-09T07:40:14.222Z"
   },
   {
    "duration": 1651,
    "start_time": "2022-04-09T13:14:10.490Z"
   },
   {
    "duration": 1681,
    "start_time": "2022-04-09T13:21:48.271Z"
   },
   {
    "duration": 406,
    "start_time": "2022-04-09T14:02:09.128Z"
   },
   {
    "duration": 486,
    "start_time": "2022-04-09T14:02:42.081Z"
   },
   {
    "duration": 480,
    "start_time": "2022-04-09T14:04:21.078Z"
   },
   {
    "duration": 148,
    "start_time": "2022-04-09T14:05:37.429Z"
   },
   {
    "duration": 9,
    "start_time": "2022-04-09T14:06:01.343Z"
   },
   {
    "duration": 405,
    "start_time": "2022-04-09T14:06:11.506Z"
   },
   {
    "duration": 393,
    "start_time": "2022-04-09T14:06:22.189Z"
   },
   {
    "duration": 17,
    "start_time": "2022-04-09T14:07:07.653Z"
   },
   {
    "duration": 1699,
    "start_time": "2022-04-09T14:08:02.567Z"
   },
   {
    "duration": 146,
    "start_time": "2022-04-09T14:08:15.754Z"
   },
   {
    "duration": 10,
    "start_time": "2022-04-09T14:08:16.842Z"
   },
   {
    "duration": 441,
    "start_time": "2022-04-09T14:08:19.281Z"
   },
   {
    "duration": 378,
    "start_time": "2022-04-09T14:08:22.408Z"
   },
   {
    "duration": 145,
    "start_time": "2022-04-09T14:08:37.277Z"
   },
   {
    "duration": 16,
    "start_time": "2022-04-09T14:08:44.695Z"
   },
   {
    "duration": 318,
    "start_time": "2022-04-09T14:09:42.858Z"
   },
   {
    "duration": 2042,
    "start_time": "2022-04-09T14:13:05.675Z"
   },
   {
    "duration": 1716,
    "start_time": "2022-04-09T14:14:10.369Z"
   },
   {
    "duration": 1812,
    "start_time": "2022-04-09T14:17:25.796Z"
   },
   {
    "duration": 1795,
    "start_time": "2022-04-09T14:19:26.227Z"
   },
   {
    "duration": 1210,
    "start_time": "2022-04-09T14:27:12.568Z"
   },
   {
    "duration": 1302,
    "start_time": "2022-04-09T14:27:34.751Z"
   },
   {
    "duration": 1248,
    "start_time": "2022-04-09T14:28:48.046Z"
   },
   {
    "duration": 114,
    "start_time": "2022-04-09T14:38:01.640Z"
   },
   {
    "duration": 117,
    "start_time": "2022-04-09T14:38:16.923Z"
   },
   {
    "duration": 107,
    "start_time": "2022-04-09T14:38:45.332Z"
   },
   {
    "duration": 28,
    "start_time": "2022-04-09T14:39:41.740Z"
   },
   {
    "duration": 454,
    "start_time": "2022-04-09T16:09:36.328Z"
   },
   {
    "duration": 207,
    "start_time": "2022-04-09T16:09:42.376Z"
   },
   {
    "duration": 7,
    "start_time": "2022-04-09T16:09:43.558Z"
   },
   {
    "duration": 397,
    "start_time": "2022-04-09T16:09:46.164Z"
   },
   {
    "duration": 1669,
    "start_time": "2022-04-09T16:10:03.596Z"
   },
   {
    "duration": 152,
    "start_time": "2022-04-09T16:10:10.925Z"
   },
   {
    "duration": 9,
    "start_time": "2022-04-09T16:10:12.607Z"
   },
   {
    "duration": 390,
    "start_time": "2022-04-09T16:10:14.333Z"
   },
   {
    "duration": 396,
    "start_time": "2022-04-09T16:10:19.171Z"
   },
   {
    "duration": 15,
    "start_time": "2022-04-09T16:10:37.347Z"
   },
   {
    "duration": 312,
    "start_time": "2022-04-09T16:10:59.218Z"
   },
   {
    "duration": 8,
    "start_time": "2022-04-09T16:11:09.567Z"
   },
   {
    "duration": 1219,
    "start_time": "2022-04-09T16:12:44.155Z"
   },
   {
    "duration": 109,
    "start_time": "2022-04-09T16:12:59.670Z"
   },
   {
    "duration": 94,
    "start_time": "2022-04-09T16:13:09.409Z"
   },
   {
    "duration": 9,
    "start_time": "2022-04-09T16:13:49.204Z"
   },
   {
    "duration": 49,
    "start_time": "2022-04-09T16:16:18.240Z"
   },
   {
    "duration": 16,
    "start_time": "2022-04-09T16:22:49.540Z"
   },
   {
    "duration": 1861,
    "start_time": "2022-04-09T16:24:12.947Z"
   },
   {
    "duration": 1694,
    "start_time": "2022-04-09T16:46:08.435Z"
   },
   {
    "duration": 1308,
    "start_time": "2022-04-09T16:47:49.683Z"
   },
   {
    "duration": 1353,
    "start_time": "2022-04-09T16:52:08.304Z"
   },
   {
    "duration": 219,
    "start_time": "2022-04-09T16:53:10.630Z"
   },
   {
    "duration": 1323,
    "start_time": "2022-04-09T16:53:38.668Z"
   },
   {
    "duration": 1343,
    "start_time": "2022-04-09T16:54:15.442Z"
   },
   {
    "duration": 192,
    "start_time": "2022-04-11T15:28:59.419Z"
   },
   {
    "duration": 1762,
    "start_time": "2022-04-11T15:29:32.875Z"
   },
   {
    "duration": 146,
    "start_time": "2022-04-11T15:29:38.934Z"
   },
   {
    "duration": 11,
    "start_time": "2022-04-11T15:29:40.894Z"
   },
   {
    "duration": 465,
    "start_time": "2022-04-11T15:29:42.283Z"
   },
   {
    "duration": 379,
    "start_time": "2022-04-11T15:29:45.201Z"
   },
   {
    "duration": 303,
    "start_time": "2022-04-11T15:29:52.190Z"
   },
   {
    "duration": 6,
    "start_time": "2022-04-11T15:29:54.590Z"
   },
   {
    "duration": 19,
    "start_time": "2022-04-11T15:29:56.629Z"
   },
   {
    "duration": 1312,
    "start_time": "2022-04-11T15:29:57.024Z"
   },
   {
    "duration": 107,
    "start_time": "2022-04-11T15:29:58.463Z"
   },
   {
    "duration": 15,
    "start_time": "2022-04-11T15:30:00.660Z"
   },
   {
    "duration": 14,
    "start_time": "2022-04-11T15:30:01.582Z"
   },
   {
    "duration": 51,
    "start_time": "2022-04-11T15:30:04.677Z"
   },
   {
    "duration": 1266,
    "start_time": "2022-04-11T15:30:08.448Z"
   },
   {
    "duration": 825,
    "start_time": "2022-04-11T15:30:25.550Z"
   },
   {
    "duration": 77,
    "start_time": "2022-04-11T15:30:37.359Z"
   },
   {
    "duration": 1558,
    "start_time": "2022-04-11T15:32:27.637Z"
   },
   {
    "duration": 138,
    "start_time": "2022-04-11T15:32:35.295Z"
   },
   {
    "duration": 11,
    "start_time": "2022-04-11T15:32:36.325Z"
   },
   {
    "duration": 401,
    "start_time": "2022-04-11T15:32:37.294Z"
   },
   {
    "duration": 379,
    "start_time": "2022-04-11T15:32:37.781Z"
   },
   {
    "duration": 299,
    "start_time": "2022-04-11T15:32:39.186Z"
   },
   {
    "duration": 7,
    "start_time": "2022-04-11T15:32:39.586Z"
   },
   {
    "duration": 18,
    "start_time": "2022-04-11T15:32:39.997Z"
   },
   {
    "duration": 1223,
    "start_time": "2022-04-11T15:32:40.420Z"
   },
   {
    "duration": 118,
    "start_time": "2022-04-11T15:32:41.646Z"
   },
   {
    "duration": 15,
    "start_time": "2022-04-11T15:32:41.791Z"
   },
   {
    "duration": 16,
    "start_time": "2022-04-11T15:32:42.015Z"
   },
   {
    "duration": 49,
    "start_time": "2022-04-11T15:32:42.629Z"
   },
   {
    "duration": 1276,
    "start_time": "2022-04-11T15:32:43.406Z"
   },
   {
    "duration": 794,
    "start_time": "2022-04-11T15:32:44.684Z"
   },
   {
    "duration": 11,
    "start_time": "2022-04-11T15:32:45.480Z"
   },
   {
    "duration": 12,
    "start_time": "2022-04-11T15:32:45.493Z"
   },
   {
    "duration": 1175,
    "start_time": "2022-04-11T15:32:46.479Z"
   },
   {
    "duration": 15,
    "start_time": "2022-04-11T15:32:47.657Z"
   },
   {
    "duration": 455,
    "start_time": "2022-04-11T16:27:50.424Z"
   },
   {
    "duration": 139,
    "start_time": "2022-04-11T16:27:56.391Z"
   },
   {
    "duration": 1607,
    "start_time": "2022-04-11T16:28:16.684Z"
   },
   {
    "duration": 146,
    "start_time": "2022-04-11T16:28:21.389Z"
   },
   {
    "duration": 12,
    "start_time": "2022-04-11T16:28:22.554Z"
   },
   {
    "duration": 412,
    "start_time": "2022-04-11T16:28:23.572Z"
   },
   {
    "duration": 354,
    "start_time": "2022-04-11T16:28:25.238Z"
   },
   {
    "duration": 493,
    "start_time": "2022-04-11T16:35:00.742Z"
   },
   {
    "duration": 7,
    "start_time": "2022-04-11T16:35:01.237Z"
   },
   {
    "duration": 16,
    "start_time": "2022-04-11T16:35:01.540Z"
   },
   {
    "duration": 1265,
    "start_time": "2022-04-11T16:35:01.962Z"
   },
   {
    "duration": 109,
    "start_time": "2022-04-11T16:35:03.390Z"
   },
   {
    "duration": 18,
    "start_time": "2022-04-11T16:35:03.654Z"
   },
   {
    "duration": 16,
    "start_time": "2022-04-11T16:35:03.886Z"
   },
   {
    "duration": 64,
    "start_time": "2022-04-11T16:35:04.463Z"
   },
   {
    "duration": 1356,
    "start_time": "2022-04-11T16:35:05.228Z"
   },
   {
    "duration": 796,
    "start_time": "2022-04-11T16:35:06.586Z"
   },
   {
    "duration": 12,
    "start_time": "2022-04-11T16:35:08.090Z"
   },
   {
    "duration": 12,
    "start_time": "2022-04-11T16:35:08.104Z"
   },
   {
    "duration": 1022,
    "start_time": "2022-04-11T16:35:09.188Z"
   },
   {
    "duration": 13,
    "start_time": "2022-04-11T16:35:10.212Z"
   },
   {
    "duration": 1578,
    "start_time": "2022-04-11T17:20:28.244Z"
   },
   {
    "duration": 148,
    "start_time": "2022-04-11T17:20:34.606Z"
   },
   {
    "duration": 11,
    "start_time": "2022-04-11T17:20:36.571Z"
   },
   {
    "duration": 394,
    "start_time": "2022-04-11T17:20:38.617Z"
   },
   {
    "duration": 379,
    "start_time": "2022-04-11T17:21:06.477Z"
   },
   {
    "duration": 339,
    "start_time": "2022-04-11T17:21:11.385Z"
   },
   {
    "duration": 7,
    "start_time": "2022-04-11T17:21:13.667Z"
   },
   {
    "duration": 18,
    "start_time": "2022-04-11T17:21:15.580Z"
   },
   {
    "duration": 1279,
    "start_time": "2022-04-11T17:21:17.020Z"
   },
   {
    "duration": 126,
    "start_time": "2022-04-11T17:21:24.351Z"
   },
   {
    "duration": 15,
    "start_time": "2022-04-11T17:21:25.484Z"
   },
   {
    "duration": 15,
    "start_time": "2022-04-11T17:21:28.776Z"
   },
   {
    "duration": 50,
    "start_time": "2022-04-11T17:21:34.049Z"
   },
   {
    "duration": 1252,
    "start_time": "2022-04-11T17:21:38.063Z"
   },
   {
    "duration": 860,
    "start_time": "2022-04-11T17:21:44.775Z"
   },
   {
    "duration": 12,
    "start_time": "2022-04-11T17:21:55.076Z"
   },
   {
    "duration": 12,
    "start_time": "2022-04-11T17:26:47.931Z"
   },
   {
    "duration": 1040,
    "start_time": "2022-04-11T17:26:55.004Z"
   },
   {
    "duration": 14,
    "start_time": "2022-04-11T17:26:56.662Z"
   },
   {
    "duration": 2777,
    "start_time": "2022-09-09T15:35:11.455Z"
   },
   {
    "duration": 214,
    "start_time": "2022-09-09T15:35:36.685Z"
   },
   {
    "duration": 17,
    "start_time": "2022-09-09T15:35:37.866Z"
   },
   {
    "duration": 483,
    "start_time": "2022-09-09T15:35:39.126Z"
   },
   {
    "duration": 435,
    "start_time": "2022-09-09T15:35:42.951Z"
   },
   {
    "duration": 385,
    "start_time": "2022-09-09T15:35:57.133Z"
   },
   {
    "duration": 8,
    "start_time": "2022-09-09T15:36:06.353Z"
   },
   {
    "duration": 19,
    "start_time": "2022-09-09T15:36:08.586Z"
   },
   {
    "duration": 1519,
    "start_time": "2022-09-09T15:36:09.987Z"
   },
   {
    "duration": 138,
    "start_time": "2022-09-09T15:36:23.149Z"
   },
   {
    "duration": 20,
    "start_time": "2022-09-09T15:36:24.423Z"
   },
   {
    "duration": 16,
    "start_time": "2022-09-09T15:36:25.613Z"
   },
   {
    "duration": 64,
    "start_time": "2022-09-09T15:36:33.520Z"
   },
   {
    "duration": 1668,
    "start_time": "2022-09-09T15:36:41.282Z"
   },
   {
    "duration": 1009,
    "start_time": "2022-09-09T15:36:58.119Z"
   },
   {
    "duration": 11,
    "start_time": "2022-09-09T15:37:06.086Z"
   },
   {
    "duration": 13,
    "start_time": "2022-09-09T15:37:08.391Z"
   },
   {
    "duration": 1199,
    "start_time": "2022-09-09T15:37:19.542Z"
   },
   {
    "duration": 30,
    "start_time": "2022-09-09T15:37:20.743Z"
   }
  ],
  "kernelspec": {
   "display_name": "Python 3 (ipykernel)",
   "language": "python",
   "name": "python3"
  },
  "language_info": {
   "codemirror_mode": {
    "name": "ipython",
    "version": 3
   },
   "file_extension": ".py",
   "mimetype": "text/x-python",
   "name": "python",
   "nbconvert_exporter": "python",
   "pygments_lexer": "ipython3",
   "version": "3.9.5"
  },
  "toc": {
   "base_numbering": 1,
   "nav_menu": {},
   "number_sections": true,
   "sideBar": true,
   "skip_h1_title": true,
   "title_cell": "Table of Contents",
   "title_sidebar": "Contents",
   "toc_cell": false,
   "toc_position": {
    "height": "458.4px",
    "left": "110px",
    "top": "145.333px",
    "width": "165px"
   },
   "toc_section_display": true,
   "toc_window_display": true
  }
 },
 "nbformat": 4,
 "nbformat_minor": 2
}
